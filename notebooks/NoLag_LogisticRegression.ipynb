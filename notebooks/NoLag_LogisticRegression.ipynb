{
 "cells": [
  {
   "cell_type": "markdown",
   "source": [
    "# Load Libraries"
   ],
   "metadata": {
    "collapsed": false
   }
  },
  {
   "cell_type": "code",
   "execution_count": 1,
   "metadata": {
    "collapsed": true
   },
   "outputs": [
    {
     "data": {
      "text/html": "        <script type=\"text/javascript\">\n        window.PlotlyConfig = {MathJaxConfig: 'local'};\n        if (window.MathJax) {MathJax.Hub.Config({SVG: {font: \"STIX-Web\"}});}\n        if (typeof require !== 'undefined') {\n        require.undef(\"plotly\");\n        requirejs.config({\n            paths: {\n                'plotly': ['https://cdn.plot.ly/plotly-latest.min']\n            }\n        });\n        require(['plotly'], function(Plotly) {\n            window._Plotly = Plotly;\n        });\n        }\n        </script>\n        "
     },
     "metadata": {},
     "output_type": "display_data"
    }
   ],
   "source": [
    "import pandas as pd\n",
    "import numpy as np\n",
    "import random as rnd\n",
    "import datetime\n",
    "\n",
    "# visualization\n",
    "import seaborn as sns\n",
    "import matplotlib.pyplot as plt\n",
    "#sns.set_style('whitegrid')\n",
    "%matplotlib inline\n",
    "\n",
    "# plotly\n",
    "import plotly\n",
    "import plotly.graph_objects as go\n",
    "import plotly.express as px\n",
    "from plotly.subplots import make_subplots\n",
    "from sklearn.ensemble import RandomForestClassifier\n",
    "#for normalizing data\n",
    "from sklearn.preprocessing import MinMaxScaler\n",
    "\n",
    "import cufflinks as cf\n",
    "cf.go_offline()\n",
    "\n",
    "from fastai.tabular.all import *\n",
    "\n",
    "# SKlearn# SKlearn\n",
    "from sklearn.linear_model import LogisticRegression\n",
    "from sklearn.neighbors import KNeighborsClassifier\n",
    "from sklearn.svm import SVC\n",
    "from xgboost import XGBClassifier\n",
    "from lightgbm.sklearn import LGBMClassifier\n",
    "from sklearn.tree import DecisionTreeClassifier\n",
    "from sklearn.ensemble import RandomForestClassifier\n",
    "from sklearn.model_selection import StratifiedKFold\n",
    "from sklearn.metrics import *\n",
    "from sklearn.model_selection import GridSearchCV\n",
    "\n",
    "from time import time\n",
    "\n",
    "\n",
    "from tqdm import tqdm\n",
    "from joblib import Parallel, delayed\n",
    "from sklearn.base import clone\n",
    "\n",
    "#from tune_sklearn import TuneSearchCV\n",
    "#from tabulate import tabulate\n",
    "\n",
    "import joblib\n",
    "\n",
    "\n",
    "from tqdm import tqdm"
   ]
  },
  {
   "cell_type": "markdown",
   "source": [
    "# Load Data"
   ],
   "metadata": {
    "collapsed": false,
    "pycharm": {
     "name": "#%% md\n"
    }
   }
  },
  {
   "cell_type": "code",
   "execution_count": 60,
   "outputs": [],
   "source": [
    "filepath = \"/Users/Kapil/PycharmProjects/stock-price\"\n",
    "train = pd.read_csv(filepath + \"/data/train.csv\")\n",
    "test = pd.read_csv(filepath + \"/data/test.csv\")"
   ],
   "metadata": {
    "collapsed": false,
    "pycharm": {
     "name": "#%%\n"
    }
   }
  },
  {
   "cell_type": "code",
   "execution_count": 61,
   "outputs": [],
   "source": [
    "SEED = 13\n",
    "np.random.seed(SEED)"
   ],
   "metadata": {
    "collapsed": false,
    "pycharm": {
     "name": "#%%\n"
    }
   }
  },
  {
   "cell_type": "code",
   "source": [
    "Y_trainW = train['Up']\n",
    "X_trainW = train.drop(['Up'], axis = 1)\n",
    "\n",
    "X_test = test\n"
   ],
   "metadata": {
    "collapsed": false,
    "pycharm": {
     "name": "#%%\n"
    }
   },
   "execution_count": 62,
   "outputs": []
  },
  {
   "cell_type": "markdown",
   "source": [
    "### Create Validation Dataset"
   ],
   "metadata": {
    "collapsed": false
   }
  },
  {
   "cell_type": "code",
   "execution_count": 63,
   "outputs": [],
   "source": [
    "#Last 20% of the train data as Validation data\n",
    "X_val = X_trainW[int(0.7*len(X_trainW)):]\n",
    "Y_val = Y_trainW[int(0.7*len(X_trainW)):]\n",
    "\n",
    "X_train = X_trainW[:int(0.7*len(X_trainW))]\n",
    "Y_train = Y_trainW[:int(0.7*len(X_trainW))]"
   ],
   "metadata": {
    "collapsed": false,
    "pycharm": {
     "name": "#%%%\n"
    }
   }
  },
  {
   "cell_type": "markdown",
   "source": [
    "## Functions\n",
    "#### Preprocessing function"
   ],
   "metadata": {
    "collapsed": false,
    "pycharm": {
     "name": "#%% md\n"
    }
   }
  },
  {
   "cell_type": "code",
   "execution_count": 64,
   "outputs": [],
   "source": [
    "def preproc(df):\n",
    "    #df['Date'] = pd.to_datetime(df.Date,format='%Y-%m-%d')\n",
    "    df_colRef = df\n",
    "    scaler = MinMaxScaler(feature_range=(0, 1))\n",
    "    df.index = df['Date']\n",
    "    add_datepart(df, 'Date')\n",
    "    df.drop('Elapsed', axis=1, inplace=True)\n",
    "    df.replace({False: 0, True: 1}, inplace=True)\n",
    "    df = scaler.fit_transform(df)\n",
    "    df = pd.DataFrame(df, columns = df_colRef.columns)\n",
    "\n",
    "    return  df"
   ],
   "metadata": {
    "collapsed": false,
    "pycharm": {
     "name": "#%%\n"
    }
   }
  },
  {
   "cell_type": "markdown",
   "source": [
    "#### Submission format function"
   ],
   "metadata": {
    "collapsed": false,
    "pycharm": {
     "name": "#%% md\n"
    }
   }
  },
  {
   "cell_type": "code",
   "execution_count": 65,
   "outputs": [],
   "source": [
    "def submitformat(df, test_df):\n",
    "    df[df > 0.5] = 1\n",
    "    df[df <= 0.5] = 0\n",
    "    df = pd.DataFrame(df)\n",
    "    df.index = test_df.index\n",
    "    df = df.iloc[5::6, :]\n",
    "    df = df.astype(int)\n",
    "    return df"
   ],
   "metadata": {
    "collapsed": false,
    "pycharm": {
     "name": "#%%\n"
    }
   }
  },
  {
   "cell_type": "markdown",
   "source": [
    "### Preprocess Data"
   ],
   "metadata": {
    "collapsed": false,
    "pycharm": {
     "name": "#%% md\n"
    }
   },
   "execution_count": 33
  },
  {
   "cell_type": "code",
   "execution_count": 66,
   "outputs": [],
   "source": [
    "X_trainW = preproc(X_trainW)\n",
    "X_train = preproc(X_train)\n",
    "X_val = preproc(X_val)\n",
    "X_test = preproc(X_test)"
   ],
   "metadata": {
    "collapsed": false,
    "pycharm": {
     "name": "#%%\n"
    }
   }
  },
  {
   "cell_type": "code",
   "execution_count": 67,
   "outputs": [
    {
     "data": {
      "text/plain": "(1418, 16)"
     },
     "execution_count": 67,
     "metadata": {},
     "output_type": "execute_result"
    }
   ],
   "source": [
    "X_train.shape"
   ],
   "metadata": {
    "collapsed": false,
    "pycharm": {
     "name": "#%%\n"
    }
   }
  },
  {
   "cell_type": "code",
   "execution_count": 68,
   "outputs": [
    {
     "data": {
      "text/plain": "(2026, 16)"
     },
     "execution_count": 68,
     "metadata": {},
     "output_type": "execute_result"
    }
   ],
   "source": [
    "X_trainW.shape"
   ],
   "metadata": {
    "collapsed": false,
    "pycharm": {
     "name": "#%%\n"
    }
   }
  },
  {
   "cell_type": "code",
   "execution_count": 69,
   "outputs": [
    {
     "data": {
      "text/plain": "       Open      High       Low     Close  Year  Month      Week       Day  \\\n0  0.012353  0.007363  0.006505  0.003186   0.0    0.0  0.000000  0.033333   \n1  0.009412  0.005381  0.006209  0.005213   0.0    0.0  0.019231  0.133333   \n2  0.012941  0.017276  0.013601  0.015639   0.0    0.0  0.019231  0.166667   \n3  0.030000  0.025205  0.026316  0.026064   0.0    0.0  0.019231  0.200000   \n4  0.021176  0.019258  0.018332  0.019403   0.0    0.0  0.019231  0.233333   \n\n   Dayofweek  Dayofyear  Is_month_end  Is_month_start  Is_quarter_end  \\\n0       1.00   0.000000           0.0             0.0             0.0   \n1       0.00   0.008242           0.0             0.0             0.0   \n2       0.25   0.010989           0.0             0.0             0.0   \n3       0.50   0.013736           0.0             0.0             0.0   \n4       0.75   0.016484           0.0             0.0             0.0   \n\n   Is_quarter_start  Is_year_end  Is_year_start  \n0               0.0          0.0            0.0  \n1               0.0          0.0            0.0  \n2               0.0          0.0            0.0  \n3               0.0          0.0            0.0  \n4               0.0          0.0            0.0  ",
      "text/html": "<div>\n<style scoped>\n    .dataframe tbody tr th:only-of-type {\n        vertical-align: middle;\n    }\n\n    .dataframe tbody tr th {\n        vertical-align: top;\n    }\n\n    .dataframe thead th {\n        text-align: right;\n    }\n</style>\n<table border=\"1\" class=\"dataframe\">\n  <thead>\n    <tr style=\"text-align: right;\">\n      <th></th>\n      <th>Open</th>\n      <th>High</th>\n      <th>Low</th>\n      <th>Close</th>\n      <th>Year</th>\n      <th>Month</th>\n      <th>Week</th>\n      <th>Day</th>\n      <th>Dayofweek</th>\n      <th>Dayofyear</th>\n      <th>Is_month_end</th>\n      <th>Is_month_start</th>\n      <th>Is_quarter_end</th>\n      <th>Is_quarter_start</th>\n      <th>Is_year_end</th>\n      <th>Is_year_start</th>\n    </tr>\n  </thead>\n  <tbody>\n    <tr>\n      <th>0</th>\n      <td>0.012353</td>\n      <td>0.007363</td>\n      <td>0.006505</td>\n      <td>0.003186</td>\n      <td>0.0</td>\n      <td>0.0</td>\n      <td>0.000000</td>\n      <td>0.033333</td>\n      <td>1.00</td>\n      <td>0.000000</td>\n      <td>0.0</td>\n      <td>0.0</td>\n      <td>0.0</td>\n      <td>0.0</td>\n      <td>0.0</td>\n      <td>0.0</td>\n    </tr>\n    <tr>\n      <th>1</th>\n      <td>0.009412</td>\n      <td>0.005381</td>\n      <td>0.006209</td>\n      <td>0.005213</td>\n      <td>0.0</td>\n      <td>0.0</td>\n      <td>0.019231</td>\n      <td>0.133333</td>\n      <td>0.00</td>\n      <td>0.008242</td>\n      <td>0.0</td>\n      <td>0.0</td>\n      <td>0.0</td>\n      <td>0.0</td>\n      <td>0.0</td>\n      <td>0.0</td>\n    </tr>\n    <tr>\n      <th>2</th>\n      <td>0.012941</td>\n      <td>0.017276</td>\n      <td>0.013601</td>\n      <td>0.015639</td>\n      <td>0.0</td>\n      <td>0.0</td>\n      <td>0.019231</td>\n      <td>0.166667</td>\n      <td>0.25</td>\n      <td>0.010989</td>\n      <td>0.0</td>\n      <td>0.0</td>\n      <td>0.0</td>\n      <td>0.0</td>\n      <td>0.0</td>\n      <td>0.0</td>\n    </tr>\n    <tr>\n      <th>3</th>\n      <td>0.030000</td>\n      <td>0.025205</td>\n      <td>0.026316</td>\n      <td>0.026064</td>\n      <td>0.0</td>\n      <td>0.0</td>\n      <td>0.019231</td>\n      <td>0.200000</td>\n      <td>0.50</td>\n      <td>0.013736</td>\n      <td>0.0</td>\n      <td>0.0</td>\n      <td>0.0</td>\n      <td>0.0</td>\n      <td>0.0</td>\n      <td>0.0</td>\n    </tr>\n    <tr>\n      <th>4</th>\n      <td>0.021176</td>\n      <td>0.019258</td>\n      <td>0.018332</td>\n      <td>0.019403</td>\n      <td>0.0</td>\n      <td>0.0</td>\n      <td>0.019231</td>\n      <td>0.233333</td>\n      <td>0.75</td>\n      <td>0.016484</td>\n      <td>0.0</td>\n      <td>0.0</td>\n      <td>0.0</td>\n      <td>0.0</td>\n      <td>0.0</td>\n      <td>0.0</td>\n    </tr>\n  </tbody>\n</table>\n</div>"
     },
     "execution_count": 69,
     "metadata": {},
     "output_type": "execute_result"
    }
   ],
   "source": [
    "X_train.head()"
   ],
   "metadata": {
    "collapsed": false,
    "pycharm": {
     "name": "#%%\n"
    }
   }
  },
  {
   "cell_type": "markdown",
   "source": [],
   "metadata": {
    "collapsed": false,
    "pycharm": {
     "name": "#%% md\n"
    }
   }
  },
  {
   "cell_type": "markdown",
   "source": [
    "## Models\n",
    "#### Logistic Regression Tuning"
   ],
   "metadata": {
    "collapsed": false
   }
  },
  {
   "cell_type": "code",
   "execution_count": null,
   "outputs": [],
   "source": [
    "penalty = ['l1', 'l2']\n",
    "C = [0.0001, 0.001, 0.01, 0.1, 1, 10, 100, 1000]\n",
    "solver = ['liblinear', 'saga']\n",
    "\n",
    "param_grid = dict(penalty=penalty,\n",
    "                  C=C,\n",
    "                  solver=solver)\n",
    "\n",
    "model1 = GridSearchCV(LogisticRegression(solver='liblinear'),\n",
    "                    param_grid=param_grid,\n",
    "                    scoring='accuracy',\n",
    "                    verbose=1,\n",
    "                    n_jobs=-1)\n",
    "\n"
   ],
   "metadata": {
    "collapsed": false,
    "pycharm": {
     "name": "#%%\n"
    }
   }
  },
  {
   "cell_type": "markdown",
   "source": [
    "## Training on the dataset"
   ],
   "metadata": {
    "collapsed": false
   }
  },
  {
   "cell_type": "code",
   "execution_count": null,
   "outputs": [],
   "source": [
    "model = model1"
   ],
   "metadata": {
    "collapsed": false,
    "pycharm": {
     "name": "#%%\n"
    }
   }
  },
  {
   "cell_type": "code",
   "execution_count": null,
   "outputs": [],
   "source": [
    "model.fit(X_train, Y_train)"
   ],
   "metadata": {
    "collapsed": false,
    "pycharm": {
     "name": "#%%\n"
    }
   }
  },
  {
   "cell_type": "markdown",
   "source": [
    "## Model Performance on Val"
   ],
   "metadata": {
    "collapsed": false
   }
  },
  {
   "cell_type": "code",
   "execution_count": null,
   "outputs": [],
   "source": [
    "# model_pipe.roc_auc_score(X_train,Y_train)\n",
    "Y_train_preds = model.predict_proba(X_train)[:,1]\n",
    "Y_train_preds = np.round(Y_train_preds).astype(int)\n",
    "train_score = accuracy_score(Y_train,Y_train_preds)\n",
    "\n",
    "Y_val_preds = model.predict_proba(X_val)[:,1]\n",
    "Y_val_preds = np.round(Y_val_preds).astype(int)\n",
    "val_score = accuracy_score(Y_val,Y_val_preds)\n",
    "\n",
    "print('Training score: ', train_score)\n",
    "print('Testing score: ', val_score)\n",
    "\n",
    "print(classification_report(Y_val, model.predict(X_val)))\n",
    "\n",
    "\n",
    "\n"
   ],
   "metadata": {
    "collapsed": false,
    "pycharm": {
     "name": "#%%\n"
    }
   }
  },
  {
   "cell_type": "markdown",
   "source": [
    "### Plotting Coeff"
   ],
   "metadata": {
    "collapsed": false,
    "pycharm": {
     "name": "#%% md\n"
    }
   }
  },
  {
   "cell_type": "code",
   "execution_count": null,
   "outputs": [],
   "source": [
    "Coef = abs(model.best_estimator_.coef_[0])\n",
    "ColumnNames = X_train.columns\n",
    "lg_df = pd.DataFrame(Coef, ColumnNames, columns = [\"Coef\"])\n",
    "lg_df_sorted = lg_df.sort_values('Coef',ascending=False)\n",
    "lg_df_sorted['ColumnNames'] = lg_df_sorted.index\n",
    "lg_df_sorted['Coef'] = lg_df_sorted['Coef'].divide(max(lg_df_sorted['Coef']))\n",
    "\n",
    "plt.bar('ColumnNames', 'Coef', data = lg_df_sorted)\n",
    "plt.xticks(rotation=90)\n",
    "plt.show()"
   ],
   "metadata": {
    "collapsed": false,
    "pycharm": {
     "name": "#%%\n"
    }
   }
  },
  {
   "cell_type": "markdown",
   "source": [
    "## Train on entire dataset"
   ],
   "metadata": {
    "collapsed": false
   }
  },
  {
   "cell_type": "code",
   "execution_count": null,
   "outputs": [],
   "source": [
    "model.fit(X_trainW, Y_trainW)"
   ],
   "metadata": {
    "collapsed": false,
    "pycharm": {
     "name": "#%%\n"
    }
   }
  },
  {
   "cell_type": "markdown",
   "source": [
    "## Generate submission file"
   ],
   "metadata": {
    "collapsed": false
   }
  },
  {
   "cell_type": "code",
   "execution_count": null,
   "outputs": [],
   "source": [
    "Y_test_preds = model.predict_proba(X_test)[:,1]\n",
    "Y_test = submitformat(Y_test_preds, test)"
   ],
   "metadata": {
    "collapsed": false,
    "pycharm": {
     "name": "#%%\n"
    }
   }
  },
  {
   "cell_type": "markdown",
   "source": [
    "### Save Model"
   ],
   "metadata": {
    "collapsed": false
   }
  },
  {
   "cell_type": "code",
   "execution_count": null,
   "outputs": [],
   "source": [
    "save_path = '/Users/Kapil/PycharmProjects/stock-price/models/non-lag/'\n",
    "model_name = model.__class__.__name__ + '.joblib'\n",
    "joblib.dump(model, save_path + model_name)\n"
   ],
   "metadata": {
    "collapsed": false,
    "pycharm": {
     "name": "#%%\n"
    }
   }
  },
  {
   "cell_type": "code",
   "execution_count": 165,
   "outputs": [],
   "source": [
    "Y_test_preds.to_csv('/Users/Kapil/Desktop/Y_test.csv')\n"
   ],
   "metadata": {
    "collapsed": false,
    "pycharm": {
     "name": "#%%\n"
    }
   }
  }
 ],
 "metadata": {
  "kernelspec": {
   "display_name": "Python 3",
   "language": "python",
   "name": "python3"
  },
  "language_info": {
   "codemirror_mode": {
    "name": "ipython",
    "version": 2
   },
   "file_extension": ".py",
   "mimetype": "text/x-python",
   "name": "python",
   "nbconvert_exporter": "python",
   "pygments_lexer": "ipython2",
   "version": "2.7.6"
  }
 },
 "nbformat": 4,
 "nbformat_minor": 0
}
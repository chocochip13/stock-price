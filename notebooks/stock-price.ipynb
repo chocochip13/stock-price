{
 "cells": [
  {
   "cell_type": "markdown",
   "source": [
    "# Load Libraries"
   ],
   "metadata": {
    "collapsed": false
   }
  },
  {
   "cell_type": "code",
   "execution_count": 50,
   "metadata": {
    "collapsed": true
   },
   "outputs": [
    {
     "data": {
      "text/html": "        <script type=\"text/javascript\">\n        window.PlotlyConfig = {MathJaxConfig: 'local'};\n        if (window.MathJax) {MathJax.Hub.Config({SVG: {font: \"STIX-Web\"}});}\n        if (typeof require !== 'undefined') {\n        require.undef(\"plotly\");\n        requirejs.config({\n            paths: {\n                'plotly': ['https://cdn.plot.ly/plotly-latest.min']\n            }\n        });\n        require(['plotly'], function(Plotly) {\n            window._Plotly = Plotly;\n        });\n        }\n        </script>\n        "
     },
     "metadata": {},
     "output_type": "display_data"
    }
   ],
   "source": [
    "import pandas as pd\n",
    "import numpy as np\n",
    "import random as rnd\n",
    "import datetime\n",
    "\n",
    "# visualization\n",
    "import seaborn as sns\n",
    "import matplotlib.pyplot as plt\n",
    "#sns.set_style('whitegrid')\n",
    "%matplotlib inline\n",
    "\n",
    "# plotly\n",
    "import plotly\n",
    "import plotly.graph_objects as go\n",
    "import plotly.express as px\n",
    "from plotly.subplots import make_subplots\n",
    "from sklearn.ensemble import RandomForestClassifier\n",
    "#for normalizing data\n",
    "from sklearn.preprocessing import MinMaxScaler\n",
    "\n",
    "import cufflinks as cf\n",
    "cf.go_offline()\n",
    "\n",
    "from fastai.tabular.all import *\n",
    "\n",
    "# SKlearn# SKlearn\n",
    "from sklearn.linear_model import LogisticRegression\n",
    "from sklearn.neighbors import KNeighborsClassifier\n",
    "from sklearn.svm import SVC\n",
    "from xgboost import XGBClassifier\n",
    "from lightgbm.sklearn import LGBMClassifier\n",
    "from sklearn.tree import DecisionTreeClassifier\n",
    "from sklearn.ensemble import RandomForestClassifier\n",
    "from sklearn.model_selection import StratifiedKFold\n",
    "from sklearn.metrics import *\n",
    "from sklearn.model_selection import GridSearchCV\n",
    "\n",
    "from time import time\n",
    "\n",
    "\n",
    "from tqdm import tqdm\n",
    "from joblib import Parallel, delayed\n",
    "from sklearn.base import clone\n",
    "\n",
    "#from tune_sklearn import TuneSearchCV\n",
    "#from tabulate import tabulate\n",
    "\n",
    "import joblib\n",
    "\n",
    "\n",
    "from tqdm import tqdm"
   ]
  },
  {
   "cell_type": "markdown",
   "source": [
    "# Load Data"
   ],
   "metadata": {
    "collapsed": false,
    "pycharm": {
     "name": "#%% md\n"
    }
   }
  },
  {
   "cell_type": "code",
   "execution_count": 51,
   "outputs": [],
   "source": [
    "filepath = \"/Users/Kapil/PycharmProjects/stock-price\"\n",
    "train = pd.read_csv(filepath + \"/data/train.csv\")\n",
    "test = pd.read_csv(filepath + \"/data/test.csv\")"
   ],
   "metadata": {
    "collapsed": false,
    "pycharm": {
     "name": "#%%\n"
    }
   }
  },
  {
   "cell_type": "code",
   "execution_count": 52,
   "outputs": [],
   "source": [
    "SEED = 13\n",
    "np.random.seed(SEED)"
   ],
   "metadata": {
    "collapsed": false,
    "pycharm": {
     "name": "#%%\n"
    }
   }
  },
  {
   "cell_type": "code",
   "source": [
    "Y_trainW = train['Up']\n",
    "X_trainW = train.drop(['Up'], axis = 1)\n",
    "\n",
    "X_test = test\n"
   ],
   "metadata": {
    "collapsed": false,
    "pycharm": {
     "name": "#%%\n"
    }
   },
   "execution_count": 53,
   "outputs": []
  },
  {
   "cell_type": "markdown",
   "source": [
    "### Create Validation Dataset"
   ],
   "metadata": {
    "collapsed": false
   }
  },
  {
   "cell_type": "code",
   "execution_count": 54,
   "outputs": [],
   "source": [
    "#Last 20% of the train data as Validation data\n",
    "X_val = X_trainW[int(0.7*len(X_trainW)):]\n",
    "Y_val = Y_trainW[int(0.7*len(X_trainW)):]\n",
    "\n",
    "X_train = X_trainW[:int(0.7*len(X_trainW))]\n",
    "Y_train = Y_trainW[:int(0.7*len(X_trainW))]"
   ],
   "metadata": {
    "collapsed": false,
    "pycharm": {
     "name": "#%%%\n"
    }
   }
  },
  {
   "cell_type": "markdown",
   "source": [
    "## Functions\n",
    "#### Preprocessing function"
   ],
   "metadata": {
    "collapsed": false,
    "pycharm": {
     "name": "#%% md\n"
    }
   }
  },
  {
   "cell_type": "code",
   "execution_count": 55,
   "outputs": [],
   "source": [
    "def preproc(df):\n",
    "    #df['Date'] = pd.to_datetime(df.Date,format='%Y-%m-%d')\n",
    "    df_colRef = df\n",
    "    scaler = MinMaxScaler(feature_range=(0, 1))\n",
    "    df.index = df['Date']\n",
    "    add_datepart(df, 'Date')\n",
    "    df.drop('Elapsed', axis=1, inplace=True)\n",
    "    df.replace({False: 0, True: 1}, inplace=True)\n",
    "    df = scaler.fit_transform(df)\n",
    "    df = pd.DataFrame(df, columns = df_colRef.columns)\n",
    "\n",
    "    return  df"
   ],
   "metadata": {
    "collapsed": false,
    "pycharm": {
     "name": "#%%\n"
    }
   }
  },
  {
   "cell_type": "markdown",
   "source": [
    "#### Submission format function"
   ],
   "metadata": {
    "collapsed": false,
    "pycharm": {
     "name": "#%% md\n"
    }
   }
  },
  {
   "cell_type": "code",
   "execution_count": 56,
   "outputs": [],
   "source": [
    "def submitformat(df, test_df):\n",
    "    df[df > 0.5] = 1\n",
    "    df[df <= 0.5] = 0\n",
    "    df = pd.DataFrame(df)\n",
    "    df.index = test_df.index\n",
    "    df = df.iloc[5::6, :]\n",
    "    df = df.astype(int)\n",
    "    return df"
   ],
   "metadata": {
    "collapsed": false,
    "pycharm": {
     "name": "#%%\n"
    }
   }
  },
  {
   "cell_type": "markdown",
   "source": [
    "### Preprocess Data"
   ],
   "metadata": {
    "collapsed": false,
    "pycharm": {
     "name": "#%% md\n"
    }
   },
   "execution_count": 33
  },
  {
   "cell_type": "code",
   "execution_count": 57,
   "outputs": [],
   "source": [
    "X_trainW = preproc(X_trainW)\n",
    "X_train = preproc(X_train)\n",
    "X_val = preproc(X_val)\n",
    "X_test = preproc(X_test)"
   ],
   "metadata": {
    "collapsed": false,
    "pycharm": {
     "name": "#%%\n"
    }
   }
  },
  {
   "cell_type": "code",
   "execution_count": 58,
   "outputs": [
    {
     "data": {
      "text/plain": "         Date   Open   High    Low  Close\n0  2004-01-02  50.85  50.91  50.62  50.72\n1  2004-01-05  50.75  50.84  50.61  50.79\n2  2004-01-06  50.87  51.26  50.86  51.15\n3  2004-01-07  51.45  51.54  51.29  51.51\n4  2004-01-08  51.15  51.33  51.02  51.28",
      "text/html": "<div>\n<style scoped>\n    .dataframe tbody tr th:only-of-type {\n        vertical-align: middle;\n    }\n\n    .dataframe tbody tr th {\n        vertical-align: top;\n    }\n\n    .dataframe thead th {\n        text-align: right;\n    }\n</style>\n<table border=\"1\" class=\"dataframe\">\n  <thead>\n    <tr style=\"text-align: right;\">\n      <th></th>\n      <th>Date</th>\n      <th>Open</th>\n      <th>High</th>\n      <th>Low</th>\n      <th>Close</th>\n    </tr>\n  </thead>\n  <tbody>\n    <tr>\n      <th>0</th>\n      <td>2004-01-02</td>\n      <td>50.85</td>\n      <td>50.91</td>\n      <td>50.62</td>\n      <td>50.72</td>\n    </tr>\n    <tr>\n      <th>1</th>\n      <td>2004-01-05</td>\n      <td>50.75</td>\n      <td>50.84</td>\n      <td>50.61</td>\n      <td>50.79</td>\n    </tr>\n    <tr>\n      <th>2</th>\n      <td>2004-01-06</td>\n      <td>50.87</td>\n      <td>51.26</td>\n      <td>50.86</td>\n      <td>51.15</td>\n    </tr>\n    <tr>\n      <th>3</th>\n      <td>2004-01-07</td>\n      <td>51.45</td>\n      <td>51.54</td>\n      <td>51.29</td>\n      <td>51.51</td>\n    </tr>\n    <tr>\n      <th>4</th>\n      <td>2004-01-08</td>\n      <td>51.15</td>\n      <td>51.33</td>\n      <td>51.02</td>\n      <td>51.28</td>\n    </tr>\n  </tbody>\n</table>\n</div>"
     },
     "execution_count": 58,
     "metadata": {},
     "output_type": "execute_result"
    }
   ],
   "source": [
    "X_train.head()"
   ],
   "metadata": {
    "collapsed": false,
    "pycharm": {
     "name": "#%%\n"
    }
   }
  },
  {
   "cell_type": "markdown",
   "source": [],
   "metadata": {
    "collapsed": false,
    "pycharm": {
     "name": "#%% md\n"
    }
   }
  },
  {
   "cell_type": "markdown",
   "source": [
    "## Models\n",
    "#### Logistic Regression Tuning"
   ],
   "metadata": {
    "collapsed": false
   }
  },
  {
   "cell_type": "code",
   "execution_count": null,
   "outputs": [],
   "source": [
    "penalty = ['l1', 'l2']\n",
    "C = [0.0001, 0.001, 0.01, 0.1, 1, 10, 100, 1000]\n",
    "solver = ['liblinear', 'saga']\n",
    "\n",
    "param_grid = dict(penalty=penalty,\n",
    "                  C=C,\n",
    "                  solver=solver)\n",
    "\n",
    "model1 = GridSearchCV(LogisticRegression(solver='liblinear'),\n",
    "                    param_grid=param_grid,\n",
    "                    scoring='accuracy',\n",
    "                    verbose=1,\n",
    "                    n_jobs=-1)\n"
   ],
   "metadata": {
    "collapsed": false,
    "pycharm": {
     "name": "#%%\n"
    }
   }
  },
  {
   "cell_type": "markdown",
   "source": [
    "#### Decision Tree tuning"
   ],
   "metadata": {
    "collapsed": false
   }
  },
  {
   "cell_type": "code",
   "execution_count": null,
   "outputs": [],
   "source": [
    "config = {\n",
    "    'criterion' : ['gini', 'entropy'],\n",
    "    'min_samples_leaf': list(range(1,5)),\n",
    "    \"max_depth\": list(range(1,10)),\n",
    "    \"min_samples_split\" : list(range(2,10))\n",
    "    #\"max_leaf_nodes\" : list(range(200))\n",
    "}\n",
    "model2 = TuneSearchCV(DecisionTreeClassifier(random_state=SEED),\n",
    "                          config,\n",
    "                          scoring='accuracy',\n",
    "                          n_jobs=-1, cv =5,\n",
    "                          search_optimization='bayesian',\n",
    "                          verbose=1,\n",
    "                          random_state=SEED)"
   ],
   "metadata": {
    "collapsed": false,
    "pycharm": {
     "name": "#%%\n"
    }
   }
  },
  {
   "cell_type": "markdown",
   "source": [
    "#### Random Forest Tuning"
   ],
   "metadata": {
    "collapsed": false
   }
  },
  {
   "cell_type": "code",
   "execution_count": null,
   "outputs": [],
   "source": [
    "config = {'bootstrap': [True, False],\n",
    "          \"max_depth\": list(range(1,10)),\n",
    "          'max_features': ['auto', 'sqrt'],\n",
    "          'min_samples_leaf': list(range(1,10)),\n",
    "          \"min_samples_split\" : list(range(2,10)),\n",
    "          'n_estimators': [10, 15, 20, 25, 30, 35, 40, 45, 50,55,60]}\n",
    "\n",
    "model3 = TuneSearchCV(RandomForestClassifier(n_jobs= 1, verbose = 1,\n",
    "                                                  random_state=SEED),\n",
    "                          config,\n",
    "                          scoring='accuracy',\n",
    "                          n_jobs=1, cv=5,\n",
    "                          search_optimization='bayesian',\n",
    "                          verbose=1,\n",
    "                          random_state=SEED)\n"
   ],
   "metadata": {
    "collapsed": false,
    "pycharm": {
     "name": "#%%\n"
    }
   }
  },
  {
   "cell_type": "markdown",
   "source": [
    "#### LightGBM Tuning"
   ],
   "metadata": {
    "collapsed": false
   }
  },
  {
   "cell_type": "code",
   "execution_count": null,
   "outputs": [],
   "source": [
    "config = {\n",
    "    'n_estimators': [5, 7, 10, 12, 15, 20, 25, 30, 35, 40],\n",
    "    \"colsample_bytree\": [0.1, 0.2, 0.3, 0.4,0.5],\n",
    "    \"max_depth\": list(range(1,10)),\n",
    "    \"num_leaves\": [10, 12, 15, 17,20,22,25, 30, 35],\n",
    "    \"reg_lambda\": [1.1, 1.2, 1.3],\n",
    "    \"min_split_gain\": [0.05, 0.1, 0.15, 0.2, 0.25, 0.3, 0.5],\n",
    "    \"subsample\": [0.5, 0.7, 0.8, 0.9, 1],\n",
    "    \"learning_rate\": [0.1, 0.12, 0.15, 0.16,0.17,0.18, 0.175, 0.2]\n",
    "}\n",
    "model4 = TuneSearchCV(LGBMClassifier(n_jobs=-1, random_state=SEED),\n",
    "                          config,\n",
    "                          scoring='accuracy',\n",
    "                          n_jobs=-1, cv=5,\n",
    "                          search_optimization='bayesian',\n",
    "                          verbose=1,\n",
    "                          random_state=SEED)"
   ],
   "metadata": {
    "collapsed": false,
    "pycharm": {
     "name": "#%%\n"
    }
   }
  },
  {
   "cell_type": "markdown",
   "source": [
    "#### XGBoost Tuning"
   ],
   "metadata": {
    "collapsed": false
   }
  },
  {
   "cell_type": "code",
   "execution_count": null,
   "outputs": [],
   "source": [
    "config = {\n",
    "    'n_estimators': [10, 15, 20, 25, 30, 35, 40, 45, 50,55,60],\n",
    "    \"colsample_bytree\": [0.1, 0.2, 0.3, 0.4,0.5, 0.7, 0.8],\n",
    "    \"min_child_weight\": list(range(1,10)) ,\n",
    "    \"max_depth\": list(range(1,10)),\n",
    "    \"learning_rate\": [0.1, 0.15, 0.16, 0.165,0.17, 0.175, 0.18, 0.19]\n",
    "}\n",
    "\n",
    "model5 = TuneSearchCV(XGBClassifier(n_jobs=-1, random_state=SEED),\n",
    "                          config,\n",
    "                          scoring='accuracy',\n",
    "                          n_jobs=-1, cv=5,\n",
    "                          search_optimization='bayesian',\n",
    "                          verbose=1,\n",
    "                          random_state=SEED)"
   ],
   "metadata": {
    "collapsed": false,
    "pycharm": {
     "name": "#%%\n"
    }
   }
  },
  {
   "cell_type": "markdown",
   "source": [
    "#### SVC Tuning"
   ],
   "metadata": {
    "collapsed": false
   }
  },
  {
   "cell_type": "code",
   "execution_count": null,
   "outputs": [],
   "source": [
    "config = {'C': [0.1, 1, 10, 100, 1000],\n",
    "              'gamma': [1, 0.1, 0.01, 0.001, 0.0001],\n",
    "              'kernel': ['rbf']}\n",
    "\n",
    "model6 = TuneSearchCV(SVC(random_state=SEED),\n",
    "                          config,\n",
    "                          scoring='accuracy',\n",
    "                          n_jobs=-1, cv = 5,\n",
    "                          search_optimization='bayesian',\n",
    "                          verbose=1,\n",
    "                          random_state=SEED)"
   ],
   "metadata": {
    "collapsed": false,
    "pycharm": {
     "name": "#%%\n"
    }
   }
  },
  {
   "cell_type": "markdown",
   "source": [
    "#### Knn Tuning"
   ],
   "metadata": {
    "collapsed": false
   }
  },
  {
   "cell_type": "code",
   "execution_count": null,
   "outputs": [],
   "source": [
    "config = {'leaf_size' : list(range(1,100)),\n",
    "          'n_neighbors' : list(range(1,100)),\n",
    "          'p':[1,2]\n",
    "}\n",
    "\n",
    "model7 = TuneSearchCV(KNeighborsClassifier(n_jobs=-1),\n",
    "                          config,\n",
    "                          scoring='accuracy',\n",
    "                          n_jobs=1, cv = 5,\n",
    "                          search_optimization='bayesian',\n",
    "                          verbose=1,\n",
    "                          random_state=SEED)"
   ],
   "metadata": {
    "collapsed": false,
    "pycharm": {
     "name": "#%%\n"
    }
   }
  },
  {
   "cell_type": "markdown",
   "source": [
    "## Training on the dataset"
   ],
   "metadata": {
    "collapsed": false
   }
  },
  {
   "cell_type": "code",
   "execution_count": null,
   "outputs": [],
   "source": [
    "model = model_"
   ],
   "metadata": {
    "collapsed": false,
    "pycharm": {
     "name": "#%%\n"
    }
   }
  },
  {
   "cell_type": "code",
   "execution_count": null,
   "outputs": [],
   "source": [
    "model.fit(X_train, Y_train)"
   ],
   "metadata": {
    "collapsed": false,
    "pycharm": {
     "name": "#%%\n"
    }
   }
  },
  {
   "cell_type": "markdown",
   "source": [
    "## Model Performance on Val"
   ],
   "metadata": {
    "collapsed": false
   }
  },
  {
   "cell_type": "code",
   "execution_count": null,
   "outputs": [],
   "source": [
    "# model_pipe.roc_auc_score(X_train,Y_train)\n",
    "Y_train_preds = model.predict_proba(X_train)[:,1]\n",
    "Y_train_preds = np.round(Y_train_preds).astype(int)\n",
    "train_score = accuracy_score(Y_train,Y_train_preds)\n",
    "\n",
    "Y_val_preds = model.predict_proba(X_val)[:,1]\n",
    "Y_val_preds = np.round(Y_val_preds).astype(int)\n",
    "val_score = accuracy_score(Y_val,Y_val_preds)\n",
    "\n",
    "print('Training score: ', train_score)\n",
    "print('Testing score: ', val_score)\n",
    "\n",
    "print(classification_report(Y_val, model.predict(X_val)))\n"
   ],
   "metadata": {
    "collapsed": false,
    "pycharm": {
     "name": "#%%\n"
    }
   }
  },
  {
   "cell_type": "markdown",
   "source": [
    "## Model Performance on Val for SVC"
   ],
   "metadata": {
    "collapsed": false
   }
  },
  {
   "cell_type": "code",
   "execution_count": null,
   "outputs": [],
   "source": [
    "# model_pipe.roc_auc_score(X_train,Y_train)\n",
    "Y_train_preds = model.predict(X_train)\n",
    "train_score = accuracy_score(Y_train,Y_train_preds)\n",
    "\n",
    "Y_val_preds = model.predict(X_val)\n",
    "val_score = accuracy_score(Y_val,Y_val_preds)\n",
    "\n",
    "print('Training score: ', train_score)\n",
    "print('Val score: ', val_score)\n",
    "\n",
    "print(classification_report(Y_val, model.predict(X_val)))"
   ],
   "metadata": {
    "collapsed": false,
    "pycharm": {
     "name": "#%%\n"
    }
   }
  },
  {
   "cell_type": "code",
   "execution_count": 31,
   "outputs": [
    {
     "name": "stdout",
     "output_type": "stream",
     "text": [
      "Feature: 0, Score: 0.14348\n",
      "Feature: 1, Score: 0.13506\n",
      "Feature: 2, Score: 0.12825\n",
      "Feature: 3, Score: 0.12641\n",
      "Feature: 4, Score: 0.03128\n",
      "Feature: 5, Score: 0.03612\n",
      "Feature: 6, Score: 0.07656\n",
      "Feature: 7, Score: 0.11036\n",
      "Feature: 8, Score: 0.05596\n",
      "Feature: 9, Score: 0.13685\n",
      "Feature: 10, Score: 0.00394\n",
      "Feature: 11, Score: 0.00374\n",
      "Feature: 12, Score: 0.00856\n",
      "Feature: 13, Score: 0.00292\n",
      "Feature: 14, Score: 0.00051\n",
      "Feature: 15, Score: 0.00000\n"
     ]
    },
    {
     "data": {
      "text/plain": "<Figure size 432x288 with 1 Axes>",
      "image/png": "[encoded data removed]"
     },
     "metadata": {
      "needs_background": "light"
     },
     "output_type": "display_data"
    }
   ],
   "source": [
    "importances = model.best_estimator_.feature_importances_\n",
    "indices = np.argsort(importances)\n",
    "# summarize feature importance\n",
    "for i,v in enumerate(importances):\n",
    "\tprint('Feature: %0d, Score: %.5f' % (i,v))\n",
    "# plot feature importance\n",
    "features = X_train.columns\n",
    "plt.title('Feature Importances')\n",
    "plt.barh(range(len(indices)), importances[indices], color='b', align='center')\n",
    "plt.yticks(range(len(indices)), [features[i] for i in indices])\n",
    "plt.xlabel('Relative Importance')\n",
    "plt.show()"
   ],
   "metadata": {
    "collapsed": false,
    "pycharm": {
     "name": "#%%\n"
    }
   }
  },
  {
   "cell_type": "markdown",
   "source": [
    "### Plotting Coeff for LogReg"
   ],
   "metadata": {
    "collapsed": false,
    "pycharm": {
     "name": "#%% md\n"
    }
   }
  },
  {
   "cell_type": "code",
   "execution_count": null,
   "outputs": [],
   "source": [
    "Coef = abs(model.best_estimator_.coef_[0])\n",
    "ColumnNames = X_train.columns\n",
    "lg_df = pd.DataFrame(Coef, ColumnNames, columns = [\"Coef\"])\n",
    "lg_df_sorted = lg_df.sort_values('Coef',ascending=False)\n",
    "lg_df_sorted['ColumnNames'] = lg_df_sorted.index\n",
    "lg_df_sorted['Coef'] = lg_df_sorted['Coef'].divide(max(lg_df_sorted['Coef']))\n",
    "\n",
    "plt.bar('ColumnNames', 'Coef', data = lg_df_sorted)\n",
    "plt.xticks(rotation=90)\n",
    "plt.show()"
   ],
   "metadata": {
    "collapsed": false,
    "pycharm": {
     "name": "#%%\n"
    }
   }
  },
  {
   "cell_type": "markdown",
   "source": [
    "## Train on entire dataset"
   ],
   "metadata": {
    "collapsed": false
   }
  },
  {
   "cell_type": "code",
   "execution_count": null,
   "outputs": [],
   "source": [
    "model.fit(X_trainW, Y_trainW)"
   ],
   "metadata": {
    "collapsed": false,
    "pycharm": {
     "name": "#%%\n"
    }
   }
  },
  {
   "cell_type": "markdown",
   "source": [
    "## Generate submission file"
   ],
   "metadata": {
    "collapsed": false
   }
  },
  {
   "cell_type": "code",
   "execution_count": null,
   "outputs": [],
   "source": [
    "Y_test_preds = model.predict_proba(X_test)[:,1]\n",
    "Y_test = submitformat(Y_test_preds, test)"
   ],
   "metadata": {
    "collapsed": false,
    "pycharm": {
     "name": "#%%\n"
    }
   }
  },
  {
   "cell_type": "markdown",
   "source": [
    "### Save Model"
   ],
   "metadata": {
    "collapsed": false
   }
  },
  {
   "cell_type": "code",
   "execution_count": null,
   "outputs": [],
   "source": [
    "save_path = '/Users/Kapil/PycharmProjects/stock-price/models/non-lag/'\n",
    "model_name = model.__class__.__name__ + '.joblib'\n",
    "joblib.dump(model, save_path + model_name)\n"
   ],
   "metadata": {
    "collapsed": false,
    "pycharm": {
     "name": "#%%\n"
    }
   }
  },
  {
   "cell_type": "code",
   "execution_count": 165,
   "outputs": [],
   "source": [
    "Y_test_preds.to_csv('/Users/Kapil/Desktop/Y_test.csv')\n"
   ],
   "metadata": {
    "collapsed": false,
    "pycharm": {
     "name": "#%%\n"
    }
   }
  },
  {
   "cell_type": "code",
   "execution_count": null,
   "outputs": [],
   "source": [],
   "metadata": {
    "collapsed": false,
    "pycharm": {
     "name": "#%%\n"
    }
   }
  }
 ],
 "metadata": {
  "kernelspec": {
   "display_name": "Python 3",
   "language": "python",
   "name": "python3"
  },
  "language_info": {
   "codemirror_mode": {
    "name": "ipython",
    "version": 2
   },
   "file_extension": ".py",
   "mimetype": "text/x-python",
   "name": "python",
   "nbconvert_exporter": "python",
   "pygments_lexer": "ipython2",
   "version": "2.7.6"
  }
 },
 "nbformat": 4,
 "nbformat_minor": 0
}
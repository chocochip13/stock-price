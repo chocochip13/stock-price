{
 "cells": [
  {
   "cell_type": "markdown",
   "source": [
    "# Load Libraries"
   ],
   "metadata": {
    "collapsed": false
   }
  },
  {
   "cell_type": "code",
   "execution_count": 2,
   "metadata": {
    "collapsed": true
   },
   "outputs": [],
   "source": [
    "import pandas as pd\n",
    "import numpy as np"
   ]
  },
  {
   "cell_type": "markdown",
   "source": [
    "# Load Data"
   ],
   "metadata": {
    "collapsed": false,
    "pycharm": {
     "name": "#%% md\n"
    }
   }
  },
  {
   "cell_type": "code",
   "execution_count": null,
   "outputs": [],
   "source": [
    "filepath = \"/Users/Kapil/PycharmProjects/stock-price\"\n",
    "train = pd.read_csv(filepath + \"/data/train.csv\")\n",
    "test = pd.read_csv(filepath + \"/data/test.csv\")"
   ],
   "metadata": {
    "collapsed": false,
    "pycharm": {
     "name": "#%%\n"
    }
   }
  },
  {
   "cell_type": "code",
   "execution_count": 13,
   "outputs": [],
   "source": [
    "SEED = 13\n",
    "np.random.seed(SEED)"
   ],
   "metadata": {
    "collapsed": false,
    "pycharm": {
     "name": "#%%\n"
    }
   }
  },
  {
   "cell_type": "code",
   "execution_count": 14,
   "outputs": [
    {
     "data": {
      "text/plain": "(2026, 6)"
     },
     "execution_count": 14,
     "metadata": {},
     "output_type": "execute_result"
    }
   ],
   "source": [
    "train.shape"
   ],
   "metadata": {
    "collapsed": false,
    "pycharm": {
     "name": "#%%\n"
    }
   }
  },
  {
   "cell_type": "code",
   "execution_count": 11,
   "outputs": [
    {
     "data": {
      "text/plain": "         Date   Open   High    Low  Close  Up\n0  2004-01-02  50.85  50.91  50.62  50.72   1\n1  2004-01-05  50.75  50.84  50.61  50.79   1\n2  2004-01-06  50.87  51.26  50.86  51.15   1\n3  2004-01-07  51.45  51.54  51.29  51.51   0\n4  2004-01-08  51.15  51.33  51.02  51.28   0",
      "text/html": "<div>\n<style scoped>\n    .dataframe tbody tr th:only-of-type {\n        vertical-align: middle;\n    }\n\n    .dataframe tbody tr th {\n        vertical-align: top;\n    }\n\n    .dataframe thead th {\n        text-align: right;\n    }\n</style>\n<table border=\"1\" class=\"dataframe\">\n  <thead>\n    <tr style=\"text-align: right;\">\n      <th></th>\n      <th>Date</th>\n      <th>Open</th>\n      <th>High</th>\n      <th>Low</th>\n      <th>Close</th>\n      <th>Up</th>\n    </tr>\n  </thead>\n  <tbody>\n    <tr>\n      <th>0</th>\n      <td>2004-01-02</td>\n      <td>50.85</td>\n      <td>50.91</td>\n      <td>50.62</td>\n      <td>50.72</td>\n      <td>1</td>\n    </tr>\n    <tr>\n      <th>1</th>\n      <td>2004-01-05</td>\n      <td>50.75</td>\n      <td>50.84</td>\n      <td>50.61</td>\n      <td>50.79</td>\n      <td>1</td>\n    </tr>\n    <tr>\n      <th>2</th>\n      <td>2004-01-06</td>\n      <td>50.87</td>\n      <td>51.26</td>\n      <td>50.86</td>\n      <td>51.15</td>\n      <td>1</td>\n    </tr>\n    <tr>\n      <th>3</th>\n      <td>2004-01-07</td>\n      <td>51.45</td>\n      <td>51.54</td>\n      <td>51.29</td>\n      <td>51.51</td>\n      <td>0</td>\n    </tr>\n    <tr>\n      <th>4</th>\n      <td>2004-01-08</td>\n      <td>51.15</td>\n      <td>51.33</td>\n      <td>51.02</td>\n      <td>51.28</td>\n      <td>0</td>\n    </tr>\n  </tbody>\n</table>\n</div>"
     },
     "execution_count": 11,
     "metadata": {},
     "output_type": "execute_result"
    }
   ],
   "source": [
    "train.head()"
   ],
   "metadata": {
    "collapsed": false,
    "pycharm": {
     "name": "#%%\n"
    }
   }
  },
  {
   "cell_type": "code",
   "source": [
    "Y_train = train['Up']\n",
    "X_train = train.drop(['Up'], axis = 1)\n",
    "\n",
    "X_test = test"
   ],
   "metadata": {
    "collapsed": false,
    "pycharm": {
     "name": "#%%\n"
    }
   },
   "execution_count": 15,
   "outputs": []
  },
  {
   "cell_type": "code",
   "source": [
    "X_train.head()\n",
    "\n"
   ],
   "metadata": {
    "collapsed": false,
    "pycharm": {
     "name": "#%%\n"
    }
   },
   "execution_count": 16,
   "outputs": [
    {
     "data": {
      "text/plain": "         Date   Open   High    Low  Close\n0  2004-01-02  50.85  50.91  50.62  50.72\n1  2004-01-05  50.75  50.84  50.61  50.79\n2  2004-01-06  50.87  51.26  50.86  51.15\n3  2004-01-07  51.45  51.54  51.29  51.51\n4  2004-01-08  51.15  51.33  51.02  51.28",
      "text/html": "<div>\n<style scoped>\n    .dataframe tbody tr th:only-of-type {\n        vertical-align: middle;\n    }\n\n    .dataframe tbody tr th {\n        vertical-align: top;\n    }\n\n    .dataframe thead th {\n        text-align: right;\n    }\n</style>\n<table border=\"1\" class=\"dataframe\">\n  <thead>\n    <tr style=\"text-align: right;\">\n      <th></th>\n      <th>Date</th>\n      <th>Open</th>\n      <th>High</th>\n      <th>Low</th>\n      <th>Close</th>\n    </tr>\n  </thead>\n  <tbody>\n    <tr>\n      <th>0</th>\n      <td>2004-01-02</td>\n      <td>50.85</td>\n      <td>50.91</td>\n      <td>50.62</td>\n      <td>50.72</td>\n    </tr>\n    <tr>\n      <th>1</th>\n      <td>2004-01-05</td>\n      <td>50.75</td>\n      <td>50.84</td>\n      <td>50.61</td>\n      <td>50.79</td>\n    </tr>\n    <tr>\n      <th>2</th>\n      <td>2004-01-06</td>\n      <td>50.87</td>\n      <td>51.26</td>\n      <td>50.86</td>\n      <td>51.15</td>\n    </tr>\n    <tr>\n      <th>3</th>\n      <td>2004-01-07</td>\n      <td>51.45</td>\n      <td>51.54</td>\n      <td>51.29</td>\n      <td>51.51</td>\n    </tr>\n    <tr>\n      <th>4</th>\n      <td>2004-01-08</td>\n      <td>51.15</td>\n      <td>51.33</td>\n      <td>51.02</td>\n      <td>51.28</td>\n    </tr>\n  </tbody>\n</table>\n</div>"
     },
     "execution_count": 16,
     "metadata": {},
     "output_type": "execute_result"
    }
   ]
  },
  {
   "cell_type": "code",
   "execution_count": 17,
   "outputs": [
    {
     "data": {
      "text/plain": "              Open         High          Low        Close\ncount  2026.000000  2026.000000  2026.000000  2026.000000\nmean     72.338425    72.714126    71.977957    72.353968\nstd      14.876363    14.968429    14.778285    14.874404\nmin      50.430000    50.650000    50.400000    50.610000\n25%      57.702500    57.942500    57.415000    57.702500\n50%      73.970000    74.430000    73.325000    73.835000\n75%      81.230000    81.645000    80.717500    81.060000\nmax     110.510000   111.020000   110.380000   110.810000",
      "text/html": "<div>\n<style scoped>\n    .dataframe tbody tr th:only-of-type {\n        vertical-align: middle;\n    }\n\n    .dataframe tbody tr th {\n        vertical-align: top;\n    }\n\n    .dataframe thead th {\n        text-align: right;\n    }\n</style>\n<table border=\"1\" class=\"dataframe\">\n  <thead>\n    <tr style=\"text-align: right;\">\n      <th></th>\n      <th>Open</th>\n      <th>High</th>\n      <th>Low</th>\n      <th>Close</th>\n    </tr>\n  </thead>\n  <tbody>\n    <tr>\n      <th>count</th>\n      <td>2026.000000</td>\n      <td>2026.000000</td>\n      <td>2026.000000</td>\n      <td>2026.000000</td>\n    </tr>\n    <tr>\n      <th>mean</th>\n      <td>72.338425</td>\n      <td>72.714126</td>\n      <td>71.977957</td>\n      <td>72.353968</td>\n    </tr>\n    <tr>\n      <th>std</th>\n      <td>14.876363</td>\n      <td>14.968429</td>\n      <td>14.778285</td>\n      <td>14.874404</td>\n    </tr>\n    <tr>\n      <th>min</th>\n      <td>50.430000</td>\n      <td>50.650000</td>\n      <td>50.400000</td>\n      <td>50.610000</td>\n    </tr>\n    <tr>\n      <th>25%</th>\n      <td>57.702500</td>\n      <td>57.942500</td>\n      <td>57.415000</td>\n      <td>57.702500</td>\n    </tr>\n    <tr>\n      <th>50%</th>\n      <td>73.970000</td>\n      <td>74.430000</td>\n      <td>73.325000</td>\n      <td>73.835000</td>\n    </tr>\n    <tr>\n      <th>75%</th>\n      <td>81.230000</td>\n      <td>81.645000</td>\n      <td>80.717500</td>\n      <td>81.060000</td>\n    </tr>\n    <tr>\n      <th>max</th>\n      <td>110.510000</td>\n      <td>111.020000</td>\n      <td>110.380000</td>\n      <td>110.810000</td>\n    </tr>\n  </tbody>\n</table>\n</div>"
     },
     "execution_count": 17,
     "metadata": {},
     "output_type": "execute_result"
    }
   ],
   "source": [
    "X_train.describe()"
   ],
   "metadata": {
    "collapsed": false,
    "pycharm": {
     "name": "#%%\n"
    }
   }
  },
  {
   "cell_type": "code",
   "execution_count": null,
   "outputs": [],
   "source": [],
   "metadata": {
    "collapsed": false,
    "pycharm": {
     "name": "#%%\n"
    }
   }
  }
 ],
 "metadata": {
  "kernelspec": {
   "display_name": "Python 3",
   "language": "python",
   "name": "python3"
  },
  "language_info": {
   "codemirror_mode": {
    "name": "ipython",
    "version": 2
   },
   "file_extension": ".py",
   "mimetype": "text/x-python",
   "name": "python",
   "nbconvert_exporter": "python",
   "pygments_lexer": "ipython2",
   "version": "2.7.6"
  }
 },
 "nbformat": 4,
 "nbformat_minor": 0
}
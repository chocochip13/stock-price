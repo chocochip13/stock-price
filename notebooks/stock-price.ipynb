{
 "cells": [
  {
   "cell_type": "markdown",
   "source": [
    "# Load Libraries"
   ],
   "metadata": {
    "collapsed": false
   }
  },
  {
   "cell_type": "code",
   "execution_count": 54,
   "metadata": {
    "collapsed": true
   },
   "outputs": [
    {
     "data": {
      "text/html": "        <script type=\"text/javascript\">\n        window.PlotlyConfig = {MathJaxConfig: 'local'};\n        if (window.MathJax) {MathJax.Hub.Config({SVG: {font: \"STIX-Web\"}});}\n        if (typeof require !== 'undefined') {\n        require.undef(\"plotly\");\n        requirejs.config({\n            paths: {\n                'plotly': ['https://cdn.plot.ly/plotly-latest.min']\n            }\n        });\n        require(['plotly'], function(Plotly) {\n            window._Plotly = Plotly;\n        });\n        }\n        </script>\n        "
     },
     "metadata": {},
     "output_type": "display_data"
    }
   ],
   "source": [
    "import pandas as pd\n",
    "import numpy as np\n",
    "import random as rnd\n",
    "import datetime\n",
    "\n",
    "# visualization\n",
    "import seaborn as sns\n",
    "import matplotlib.pyplot as plt\n",
    "#sns.set_style('whitegrid')\n",
    "%matplotlib inline\n",
    "\n",
    "# plotly\n",
    "import plotly\n",
    "import plotly.graph_objects as go\n",
    "import plotly.express as px\n",
    "from plotly.subplots import make_subplots\n",
    "import cufflinks as cf\n",
    "cf.go_offline()\n",
    "\n",
    "from fastai.tabular.all import *\n",
    "\n",
    "# SKlearn\n",
    "from sklearn.linear_model import LogisticRegression\n",
    "from sklearn.model_selection import StratifiedKFold\n",
    "from sklearn.metrics import *\n",
    "from lightgbm.sklearn import LGBMClassifier\n",
    "from time import time\n",
    "\n",
    "\n",
    "from tqdm import tqdm"
   ]
  },
  {
   "cell_type": "markdown",
   "source": [
    "# Load Data"
   ],
   "metadata": {
    "collapsed": false,
    "pycharm": {
     "name": "#%% md\n"
    }
   }
  },
  {
   "cell_type": "code",
   "execution_count": 55,
   "outputs": [],
   "source": [
    "filepath = \"/Users/Kapil/PycharmProjects/stock-price\"\n",
    "train = pd.read_csv(filepath + \"/data/train.csv\")\n",
    "test = pd.read_csv(filepath + \"/data/test.csv\")"
   ],
   "metadata": {
    "collapsed": false,
    "pycharm": {
     "name": "#%%\n"
    }
   }
  },
  {
   "cell_type": "code",
   "execution_count": 56,
   "outputs": [],
   "source": [
    "SEED = 13\n",
    "np.random.seed(SEED)"
   ],
   "metadata": {
    "collapsed": false,
    "pycharm": {
     "name": "#%%\n"
    }
   }
  },
  {
   "cell_type": "code",
   "source": [
    "Y_train = train['Up']\n",
    "X_train = train.drop(['Up'], axis = 1)\n",
    "\n",
    "X_test = test"
   ],
   "metadata": {
    "collapsed": false,
    "pycharm": {
     "name": "#%%\n"
    }
   },
   "execution_count": 57,
   "outputs": []
  },
  {
   "cell_type": "markdown",
   "source": [
    "### Preprocessing Function"
   ],
   "metadata": {
    "collapsed": false,
    "pycharm": {
     "name": "#%% md\n"
    }
   }
  },
  {
   "cell_type": "code",
   "execution_count": 58,
   "outputs": [],
   "source": [
    "def preproc(df):\n",
    "    #df['Date'] = pd.to_datetime(df.Date,format='%Y-%m-%d')\n",
    "    df.index = df['Date']\n",
    "    add_datepart(df, 'Date')\n",
    "    df.drop('Elapsed', axis=1, inplace=True)\n",
    "    df.replace({False: 0, True: 1}, inplace=True)\n",
    "\n",
    "    return  df"
   ],
   "metadata": {
    "collapsed": false,
    "pycharm": {
     "name": "#%%\n"
    }
   }
  },
  {
   "cell_type": "code",
   "execution_count": 59,
   "outputs": [],
   "source": [
    "X_train = preproc(X_train)\n",
    "X_test = preproc(X_test)"
   ],
   "metadata": {
    "collapsed": false,
    "pycharm": {
     "name": "#%%\n"
    }
   }
  },
  {
   "cell_type": "code",
   "execution_count": 60,
   "outputs": [
    {
     "data": {
      "text/plain": "             Open   High    Low  Close  Year  Month  Week  Day  Dayofweek  \\\nDate                                                                        \n2004-01-02  50.85  50.91  50.62  50.72  2004      1     1    2          4   \n2004-01-05  50.75  50.84  50.61  50.79  2004      1     2    5          0   \n2004-01-06  50.87  51.26  50.86  51.15  2004      1     2    6          1   \n2004-01-07  51.45  51.54  51.29  51.51  2004      1     2    7          2   \n2004-01-08  51.15  51.33  51.02  51.28  2004      1     2    8          3   \n\n            Dayofyear  Is_month_end  Is_month_start  Is_quarter_end  \\\nDate                                                                  \n2004-01-02          2             0               0               0   \n2004-01-05          5             0               0               0   \n2004-01-06          6             0               0               0   \n2004-01-07          7             0               0               0   \n2004-01-08          8             0               0               0   \n\n            Is_quarter_start  Is_year_end  Is_year_start  \nDate                                                      \n2004-01-02                 0            0              0  \n2004-01-05                 0            0              0  \n2004-01-06                 0            0              0  \n2004-01-07                 0            0              0  \n2004-01-08                 0            0              0  ",
      "text/html": "<div>\n<style scoped>\n    .dataframe tbody tr th:only-of-type {\n        vertical-align: middle;\n    }\n\n    .dataframe tbody tr th {\n        vertical-align: top;\n    }\n\n    .dataframe thead th {\n        text-align: right;\n    }\n</style>\n<table border=\"1\" class=\"dataframe\">\n  <thead>\n    <tr style=\"text-align: right;\">\n      <th></th>\n      <th>Open</th>\n      <th>High</th>\n      <th>Low</th>\n      <th>Close</th>\n      <th>Year</th>\n      <th>Month</th>\n      <th>Week</th>\n      <th>Day</th>\n      <th>Dayofweek</th>\n      <th>Dayofyear</th>\n      <th>Is_month_end</th>\n      <th>Is_month_start</th>\n      <th>Is_quarter_end</th>\n      <th>Is_quarter_start</th>\n      <th>Is_year_end</th>\n      <th>Is_year_start</th>\n    </tr>\n    <tr>\n      <th>Date</th>\n      <th></th>\n      <th></th>\n      <th></th>\n      <th></th>\n      <th></th>\n      <th></th>\n      <th></th>\n      <th></th>\n      <th></th>\n      <th></th>\n      <th></th>\n      <th></th>\n      <th></th>\n      <th></th>\n      <th></th>\n      <th></th>\n    </tr>\n  </thead>\n  <tbody>\n    <tr>\n      <th>2004-01-02</th>\n      <td>50.85</td>\n      <td>50.91</td>\n      <td>50.62</td>\n      <td>50.72</td>\n      <td>2004</td>\n      <td>1</td>\n      <td>1</td>\n      <td>2</td>\n      <td>4</td>\n      <td>2</td>\n      <td>0</td>\n      <td>0</td>\n      <td>0</td>\n      <td>0</td>\n      <td>0</td>\n      <td>0</td>\n    </tr>\n    <tr>\n      <th>2004-01-05</th>\n      <td>50.75</td>\n      <td>50.84</td>\n      <td>50.61</td>\n      <td>50.79</td>\n      <td>2004</td>\n      <td>1</td>\n      <td>2</td>\n      <td>5</td>\n      <td>0</td>\n      <td>5</td>\n      <td>0</td>\n      <td>0</td>\n      <td>0</td>\n      <td>0</td>\n      <td>0</td>\n      <td>0</td>\n    </tr>\n    <tr>\n      <th>2004-01-06</th>\n      <td>50.87</td>\n      <td>51.26</td>\n      <td>50.86</td>\n      <td>51.15</td>\n      <td>2004</td>\n      <td>1</td>\n      <td>2</td>\n      <td>6</td>\n      <td>1</td>\n      <td>6</td>\n      <td>0</td>\n      <td>0</td>\n      <td>0</td>\n      <td>0</td>\n      <td>0</td>\n      <td>0</td>\n    </tr>\n    <tr>\n      <th>2004-01-07</th>\n      <td>51.45</td>\n      <td>51.54</td>\n      <td>51.29</td>\n      <td>51.51</td>\n      <td>2004</td>\n      <td>1</td>\n      <td>2</td>\n      <td>7</td>\n      <td>2</td>\n      <td>7</td>\n      <td>0</td>\n      <td>0</td>\n      <td>0</td>\n      <td>0</td>\n      <td>0</td>\n      <td>0</td>\n    </tr>\n    <tr>\n      <th>2004-01-08</th>\n      <td>51.15</td>\n      <td>51.33</td>\n      <td>51.02</td>\n      <td>51.28</td>\n      <td>2004</td>\n      <td>1</td>\n      <td>2</td>\n      <td>8</td>\n      <td>3</td>\n      <td>8</td>\n      <td>0</td>\n      <td>0</td>\n      <td>0</td>\n      <td>0</td>\n      <td>0</td>\n      <td>0</td>\n    </tr>\n  </tbody>\n</table>\n</div>"
     },
     "execution_count": 60,
     "metadata": {},
     "output_type": "execute_result"
    }
   ],
   "source": [
    "X_train.head()\n"
   ],
   "metadata": {
    "collapsed": false,
    "pycharm": {
     "name": "#%%\n"
    }
   }
  },
  {
   "cell_type": "markdown",
   "source": [
    "# Model\n"
   ],
   "metadata": {
    "collapsed": false,
    "pycharm": {
     "name": "#%% md\n"
    }
   }
  },
  {
   "cell_type": "markdown",
   "source": [
    "### LightGBM"
   ],
   "metadata": {
    "collapsed": false,
    "pycharm": {
     "name": "#%% md\n"
    }
   }
  },
  {
   "cell_type": "code",
   "execution_count": 61,
   "outputs": [],
   "source": [
    "model = LGBMClassifier(boosting_type = 'gbdt', learning_rate = 0.01,\n",
    "                       n_estimators = 800, objective = 'binary')"
   ],
   "metadata": {
    "collapsed": false,
    "pycharm": {
     "name": "#%%\n"
    }
   }
  },
  {
   "cell_type": "code",
   "execution_count": 62,
   "outputs": [],
   "source": [
    "kfolds = StratifiedKFold(n_splits=5, shuffle=True)\n",
    "n_jobs = -1"
   ],
   "metadata": {
    "collapsed": false,
    "pycharm": {
     "name": "#%%\n"
    }
   }
  },
  {
   "cell_type": "markdown",
   "source": [
    "### Parallel version"
   ],
   "metadata": {
    "collapsed": false,
    "pycharm": {
     "name": "#%% md\n"
    }
   }
  },
  {
   "cell_type": "code",
   "execution_count": 63,
   "outputs": [],
   "source": [
    "from joblib import Parallel, delayed\n",
    "from sklearn.base import clone\n",
    "\n",
    "def fit_and_score(model, train_index, valid_index, X, Y):\n",
    "    \"\"\"\n",
    "    function to use in a joblib parallel env, takes the inputs and returns metrics\n",
    "    return: (roc_train, roc_val, f1_train, f1_val)\n",
    "    \"\"\"\n",
    "    # get X and y vectors\n",
    "    x_train, x_valid = X.iloc[train_index], X.iloc[valid_index]\n",
    "    y_train, y_valid = Y.iloc[train_index], Y.iloc[valid_index]\n",
    "\n",
    "    # over sample x\n",
    "    #x_train, y_train = ros.fit_resample(x_train, y_train)\n",
    "\n",
    "    # preprocess\n",
    "#     x_train = ct.fit_transform(x_train)\n",
    "#     x_valid = ct.transform(x_valid)\n",
    "\n",
    "    # train model\n",
    "    model.fit(x_train, y_train)\n",
    "\n",
    "    # append scores\n",
    "    y_train_preds = model.predict(x_train)\n",
    "    y_valid_preds = model.predict(x_valid)\n",
    "\n",
    "    f1_train = f1_score(y_train, y_train_preds)\n",
    "    roc_train = roc_auc_score(y_train, model.predict_proba(x_train)[:,1])\n",
    "    mcc_train = matthews_corrcoef(y_train, y_train_preds)\n",
    "\n",
    "    f1_val = f1_score(y_valid, y_valid_preds)\n",
    "    roc_val = roc_auc_score(y_valid, model.predict_proba(x_valid)[:,1])\n",
    "    mcc_val = matthews_corrcoef(y_valid, y_valid_preds)\n",
    "\n",
    "    log_line = 'Train score: ' + str(roc_train) + ' Validation score: ' + str(roc_val)\n",
    "    tqdm.write(log_line)\n",
    "\n",
    "    return roc_train, roc_val, f1_train, f1_val, mcc_train, mcc_val\n"
   ],
   "metadata": {
    "collapsed": false,
    "pycharm": {
     "name": "#%%\n"
    }
   }
  },
  {
   "cell_type": "code",
   "execution_count": 64,
   "outputs": [
    {
     "name": "stdout",
     "output_type": "stream",
     "text": [
      "Running parallel loop\n"
     ]
    },
    {
     "name": "stderr",
     "output_type": "stream",
     "text": [
      "[Parallel(n_jobs=-1)]: Using backend LokyBackend with 4 concurrent workers.\n"
     ]
    },
    {
     "name": "stdout",
     "output_type": "stream",
     "text": [
      "Total time taken  0.2537138859430949  mins\n"
     ]
    },
    {
     "name": "stderr",
     "output_type": "stream",
     "text": [
      "[Parallel(n_jobs=-1)]: Done   5 out of   5 | elapsed:   15.2s finished\n"
     ]
    }
   ],
   "source": [
    "st = time()\n",
    "\n",
    "if n_jobs == 1:\n",
    "    print('Running single process loop')\n",
    "    res = []\n",
    "\n",
    "    for train_index, valid_index in tqdm(kfolds.split(X_train, Y_train)):\n",
    "        res.append(fit_and_score(clone(model), train_index, valid_index, X_train, Y_train))\n",
    "else:\n",
    "    print('Running parallel loop')\n",
    "    parallel = Parallel(n_jobs=n_jobs, verbose=1)\n",
    "    res = parallel(delayed(fit_and_score)(clone(model), train_idx, valid_idx, X_train, Y_train)\n",
    "              for train_idx, valid_idx in kfolds.split(X_train, Y_train))\n",
    "\n",
    "\n",
    "end = time()\n",
    "\n",
    "print('Total time taken ', (end - st)/60, ' mins')"
   ],
   "metadata": {
    "collapsed": false,
    "pycharm": {
     "name": "#%%\n"
    }
   }
  },
  {
   "cell_type": "code",
   "execution_count": 65,
   "outputs": [
    {
     "data": {
      "text/plain": "   ROC_train   ROC_val  F1_train    F1_val  MCC_train   MCC_val\n0   0.955781  0.573968  0.891278  0.590698   0.775061  0.130957\n1   0.953070  0.564276  0.878913  0.571429   0.746864  0.094164\n2   0.963583  0.490187  0.903073  0.494005   0.797541 -0.042885\n3   0.956752  0.581071  0.892963  0.577367   0.776509  0.093464\n4   0.961814  0.570696  0.915335  0.580796   0.823456  0.113985",
      "text/html": "<div>\n<style scoped>\n    .dataframe tbody tr th:only-of-type {\n        vertical-align: middle;\n    }\n\n    .dataframe tbody tr th {\n        vertical-align: top;\n    }\n\n    .dataframe thead th {\n        text-align: right;\n    }\n</style>\n<table border=\"1\" class=\"dataframe\">\n  <thead>\n    <tr style=\"text-align: right;\">\n      <th></th>\n      <th>ROC_train</th>\n      <th>ROC_val</th>\n      <th>F1_train</th>\n      <th>F1_val</th>\n      <th>MCC_train</th>\n      <th>MCC_val</th>\n    </tr>\n  </thead>\n  <tbody>\n    <tr>\n      <th>0</th>\n      <td>0.955781</td>\n      <td>0.573968</td>\n      <td>0.891278</td>\n      <td>0.590698</td>\n      <td>0.775061</td>\n      <td>0.130957</td>\n    </tr>\n    <tr>\n      <th>1</th>\n      <td>0.953070</td>\n      <td>0.564276</td>\n      <td>0.878913</td>\n      <td>0.571429</td>\n      <td>0.746864</td>\n      <td>0.094164</td>\n    </tr>\n    <tr>\n      <th>2</th>\n      <td>0.963583</td>\n      <td>0.490187</td>\n      <td>0.903073</td>\n      <td>0.494005</td>\n      <td>0.797541</td>\n      <td>-0.042885</td>\n    </tr>\n    <tr>\n      <th>3</th>\n      <td>0.956752</td>\n      <td>0.581071</td>\n      <td>0.892963</td>\n      <td>0.577367</td>\n      <td>0.776509</td>\n      <td>0.093464</td>\n    </tr>\n    <tr>\n      <th>4</th>\n      <td>0.961814</td>\n      <td>0.570696</td>\n      <td>0.915335</td>\n      <td>0.580796</td>\n      <td>0.823456</td>\n      <td>0.113985</td>\n    </tr>\n  </tbody>\n</table>\n</div>"
     },
     "execution_count": 65,
     "metadata": {},
     "output_type": "execute_result"
    }
   ],
   "source": [
    "res = pd.DataFrame(res, columns=['ROC_train', 'ROC_val', 'F1_train', 'F1_val', 'MCC_train', 'MCC_val'])\n",
    "res"
   ],
   "metadata": {
    "collapsed": false,
    "pycharm": {
     "name": "#%%\n"
    }
   }
  },
  {
   "cell_type": "code",
   "execution_count": 66,
   "outputs": [
    {
     "data": {
      "text/plain": "LGBMClassifier(learning_rate=0.01, n_estimators=800, objective='binary')"
     },
     "execution_count": 66,
     "metadata": {},
     "output_type": "execute_result"
    }
   ],
   "source": [
    "model.fit(X_train, Y_train)\n"
   ],
   "metadata": {
    "collapsed": false,
    "pycharm": {
     "name": "#%%\n"
    }
   }
  },
  {
   "cell_type": "code",
   "execution_count": 154,
   "outputs": [
    {
     "name": "stdout",
     "output_type": "stream",
     "text": [
      "Training score:  0.941161494227646\n"
     ]
    }
   ],
   "source": [
    "# model_pipe.roc_auc_score(X_train,Y_train)\n",
    "Y_train_preds = model.predict_proba(X_train)[:,1]\n",
    "train_score = roc_auc_score(Y_train,Y_train_preds)\n",
    "\n",
    "Y_test_preds = model.predict_proba(X_test)[:,1]\n",
    "#test_score = roc_auc_score(Y_test,Y_test_preds)\n",
    "\n",
    "print('Training score: ', train_score)\n",
    "#print('Testing score: ', test_score)"
   ],
   "metadata": {
    "collapsed": false,
    "pycharm": {
     "name": "#%%\n"
    }
   }
  },
  {
   "cell_type": "code",
   "execution_count": 155,
   "outputs": [
    {
     "data": {
      "text/plain": "(1200,)"
     },
     "execution_count": 155,
     "metadata": {},
     "output_type": "execute_result"
    }
   ],
   "source": [
    "Y_test_preds.shape"
   ],
   "metadata": {
    "collapsed": false,
    "pycharm": {
     "name": "#%%\n"
    }
   }
  },
  {
   "cell_type": "code",
   "execution_count": null,
   "outputs": [],
   "source": [
    "def submitformat(df, test_df):\n",
    "    df[df > 0.5] = 1\n",
    "    df[df <= 0.5] = 0\n",
    "    df = pd.DataFrame(df)\n",
    "    df.index = test_df.index\n",
    "    df = df.iloc[5::6, :]\n",
    "    df = df.astype(int)\n",
    "    return df\n"
   ],
   "metadata": {
    "collapsed": false,
    "pycharm": {
     "name": "#%%\n"
    }
   }
  },
  {
   "cell_type": "code",
   "execution_count": 156,
   "outputs": [],
   "source": [
    "Y_test_preds[Y_test_preds > 0.5] = 1\n",
    "Y_test_preds[Y_test_preds <= 0.5] = 0"
   ],
   "metadata": {
    "collapsed": false,
    "pycharm": {
     "name": "#%%\n"
    }
   }
  },
  {
   "cell_type": "code",
   "execution_count": 157,
   "outputs": [],
   "source": [
    "Y_test_preds = pd.DataFrame(Y_test_preds)"
   ],
   "metadata": {
    "collapsed": false,
    "pycharm": {
     "name": "#%%\n"
    }
   }
  },
  {
   "cell_type": "code",
   "execution_count": 158,
   "outputs": [
    {
     "data": {
      "text/plain": "(1200, 1)"
     },
     "execution_count": 158,
     "metadata": {},
     "output_type": "execute_result"
    }
   ],
   "source": [
    "Y_test_preds.shape"
   ],
   "metadata": {
    "collapsed": false,
    "pycharm": {
     "name": "#%%\n"
    }
   }
  },
  {
   "cell_type": "code",
   "execution_count": 159,
   "outputs": [],
   "source": [
    "Y_test_preds.index = test.index"
   ],
   "metadata": {
    "collapsed": false,
    "pycharm": {
     "name": "#%%\n"
    }
   }
  },
  {
   "cell_type": "code",
   "execution_count": 160,
   "outputs": [
    {
     "data": {
      "text/plain": "              0\nDate           \n2012-01-19  0.0\n2012-01-20  0.0\n2012-01-23  0.0\n2012-01-24  0.0\n2012-01-25  0.0",
      "text/html": "<div>\n<style scoped>\n    .dataframe tbody tr th:only-of-type {\n        vertical-align: middle;\n    }\n\n    .dataframe tbody tr th {\n        vertical-align: top;\n    }\n\n    .dataframe thead th {\n        text-align: right;\n    }\n</style>\n<table border=\"1\" class=\"dataframe\">\n  <thead>\n    <tr style=\"text-align: right;\">\n      <th></th>\n      <th>0</th>\n    </tr>\n    <tr>\n      <th>Date</th>\n      <th></th>\n    </tr>\n  </thead>\n  <tbody>\n    <tr>\n      <th>2012-01-19</th>\n      <td>0.0</td>\n    </tr>\n    <tr>\n      <th>2012-01-20</th>\n      <td>0.0</td>\n    </tr>\n    <tr>\n      <th>2012-01-23</th>\n      <td>0.0</td>\n    </tr>\n    <tr>\n      <th>2012-01-24</th>\n      <td>0.0</td>\n    </tr>\n    <tr>\n      <th>2012-01-25</th>\n      <td>0.0</td>\n    </tr>\n  </tbody>\n</table>\n</div>"
     },
     "execution_count": 160,
     "metadata": {},
     "output_type": "execute_result"
    }
   ],
   "source": [
    "Y_test_preds.head()"
   ],
   "metadata": {
    "collapsed": false,
    "pycharm": {
     "name": "#%%\n"
    }
   }
  },
  {
   "cell_type": "code",
   "execution_count": 161,
   "outputs": [],
   "source": [
    "Y_test_preds = Y_test_preds.iloc[5::6, :]"
   ],
   "metadata": {
    "collapsed": false,
    "pycharm": {
     "name": "#%%\n"
    }
   }
  },
  {
   "cell_type": "code",
   "execution_count": 162,
   "outputs": [
    {
     "data": {
      "text/plain": "(200, 1)"
     },
     "execution_count": 162,
     "metadata": {},
     "output_type": "execute_result"
    }
   ],
   "source": [
    "Y_test_preds.shape"
   ],
   "metadata": {
    "collapsed": false,
    "pycharm": {
     "name": "#%%\n"
    }
   }
  },
  {
   "cell_type": "code",
   "execution_count": 163,
   "outputs": [
    {
     "data": {
      "text/plain": "              0\nDate           \n2012-01-26  0.0\n2012-02-09  1.0\n2012-02-24  0.0\n2012-03-09  1.0\n2012-03-23  0.0",
      "text/html": "<div>\n<style scoped>\n    .dataframe tbody tr th:only-of-type {\n        vertical-align: middle;\n    }\n\n    .dataframe tbody tr th {\n        vertical-align: top;\n    }\n\n    .dataframe thead th {\n        text-align: right;\n    }\n</style>\n<table border=\"1\" class=\"dataframe\">\n  <thead>\n    <tr style=\"text-align: right;\">\n      <th></th>\n      <th>0</th>\n    </tr>\n    <tr>\n      <th>Date</th>\n      <th></th>\n    </tr>\n  </thead>\n  <tbody>\n    <tr>\n      <th>2012-01-26</th>\n      <td>0.0</td>\n    </tr>\n    <tr>\n      <th>2012-02-09</th>\n      <td>1.0</td>\n    </tr>\n    <tr>\n      <th>2012-02-24</th>\n      <td>0.0</td>\n    </tr>\n    <tr>\n      <th>2012-03-09</th>\n      <td>1.0</td>\n    </tr>\n    <tr>\n      <th>2012-03-23</th>\n      <td>0.0</td>\n    </tr>\n  </tbody>\n</table>\n</div>"
     },
     "execution_count": 163,
     "metadata": {},
     "output_type": "execute_result"
    }
   ],
   "source": [
    "Y_test_preds.head()"
   ],
   "metadata": {
    "collapsed": false,
    "pycharm": {
     "name": "#%%\n"
    }
   }
  },
  {
   "cell_type": "code",
   "execution_count": 164,
   "outputs": [],
   "source": [
    "Y_test_preds = Y_test_preds.astype(int)"
   ],
   "metadata": {
    "collapsed": false,
    "pycharm": {
     "name": "#%%\n"
    }
   }
  },
  {
   "cell_type": "code",
   "execution_count": 165,
   "outputs": [],
   "source": [
    "Y_test_preds.to_csv('/Users/Kapil/Desktop/Y_test.csv')\n"
   ],
   "metadata": {
    "collapsed": false,
    "pycharm": {
     "name": "#%%\n"
    }
   }
  },
  {
   "cell_type": "code",
   "execution_count": null,
   "outputs": [],
   "source": [],
   "metadata": {
    "collapsed": false,
    "pycharm": {
     "name": "#%%\n"
    }
   }
  }
 ],
 "metadata": {
  "kernelspec": {
   "display_name": "Python 3",
   "language": "python",
   "name": "python3"
  },
  "language_info": {
   "codemirror_mode": {
    "name": "ipython",
    "version": 2
   },
   "file_extension": ".py",
   "mimetype": "text/x-python",
   "name": "python",
   "nbconvert_exporter": "python",
   "pygments_lexer": "ipython2",
   "version": "2.7.6"
  }
 },
 "nbformat": 4,
 "nbformat_minor": 0
}
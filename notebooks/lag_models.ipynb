{
 "cells": [
  {
   "cell_type": "markdown",
   "metadata": {
    "collapsed": true,
    "pycharm": {
     "name": "#%% md\n"
    }
   },
   "source": [
    "## Load Libraries"
   ]
  },
  {
   "cell_type": "code",
   "execution_count": 46,
   "outputs": [
    {
     "data": {
      "text/html": "        <script type=\"text/javascript\">\n        window.PlotlyConfig = {MathJaxConfig: 'local'};\n        if (window.MathJax) {MathJax.Hub.Config({SVG: {font: \"STIX-Web\"}});}\n        if (typeof require !== 'undefined') {\n        require.undef(\"plotly\");\n        requirejs.config({\n            paths: {\n                'plotly': ['https://cdn.plot.ly/plotly-latest.min']\n            }\n        });\n        require(['plotly'], function(Plotly) {\n            window._Plotly = Plotly;\n        });\n        }\n        </script>\n        "
     },
     "metadata": {},
     "output_type": "display_data"
    }
   ],
   "source": [
    "import pandas as pd\n",
    "import numpy as np\n",
    "import random as rnd\n",
    "import datetime\n",
    "\n",
    "# visualization\n",
    "import seaborn as sns\n",
    "import matplotlib.pyplot as plt\n",
    "#sns.set_style('whitegrid')\n",
    "%matplotlib inline\n",
    "\n",
    "# plotly\n",
    "import plotly\n",
    "import plotly.graph_objects as go\n",
    "import plotly.express as px\n",
    "from plotly.subplots import make_subplots\n",
    "import cufflinks as cf\n",
    "cf.go_offline()\n",
    "\n",
    "from fastai.tabular.all import *\n",
    "\n",
    "# SKlearn\n",
    "from sklearn.linear_model import LogisticRegression\n",
    "from sklearn.neighbors import KNeighborsClassifier\n",
    "from sklearn.svm import SVC\n",
    "from xgboost import XGBClassifier\n",
    "from lightgbm.sklearn import LGBMClassifier\n",
    "from sklearn.tree import DecisionTreeClassifier\n",
    "from sklearn.ensemble import RandomForestClassifier\n",
    "from sklearn.model_selection import StratifiedKFold\n",
    "from sklearn.metrics import *\n",
    "from sklearn.model_selection import GridSearchCV\n",
    "\n",
    "from time import time\n",
    "\n",
    "\n",
    "from tqdm import tqdm\n",
    "from joblib import Parallel, delayed\n",
    "from sklearn.base import clone\n",
    "\n",
    "from tune_sklearn import TuneSearchCV\n",
    "from tabulate import tabulate"
   ],
   "metadata": {
    "collapsed": false,
    "pycharm": {
     "name": "#%%\n"
    }
   }
  },
  {
   "cell_type": "markdown",
   "source": [
    "## Load Data"
   ],
   "metadata": {
    "collapsed": false
   }
  },
  {
   "cell_type": "code",
   "execution_count": 47,
   "outputs": [],
   "source": [
    "filepath = \"/Users/Kapil/PycharmProjects/stock-price\"\n",
    "train = pd.read_csv(filepath + \"/data/train.csv\")\n",
    "test = pd.read_csv(filepath + \"/data/test.csv\")"
   ],
   "metadata": {
    "collapsed": false,
    "pycharm": {
     "name": "#%%\n"
    }
   }
  },
  {
   "cell_type": "code",
   "execution_count": 48,
   "outputs": [],
   "source": [
    "SEED = 13\n",
    "np.random.seed(SEED)"
   ],
   "metadata": {
    "collapsed": false,
    "pycharm": {
     "name": "#%%\n"
    }
   }
  },
  {
   "cell_type": "code",
   "execution_count": 49,
   "outputs": [],
   "source": [
    "Y_train = train['Up']\n",
    "#X_train = train.drop(['Up'], axis = 1)"
   ],
   "metadata": {
    "collapsed": false,
    "pycharm": {
     "name": "#%%\n"
    }
   }
  },
  {
   "cell_type": "markdown",
   "source": [
    "## Functions\n",
    "#### Preprocessing function"
   ],
   "metadata": {
    "collapsed": false,
    "pycharm": {
     "name": "#%% md\n"
    }
   }
  },
  {
   "cell_type": "code",
   "execution_count": 50,
   "outputs": [],
   "source": [
    "def LagPreproc(df):\n",
    "    data = pd.DataFrame()\n",
    "    data['Today'] = df['Close'].pct_change() * 100\n",
    "    #data = data.rename(\"Today\")\n",
    "    for i in range(1,6):\n",
    "        data['Lag'+str(i)] = data['Today'].shift(i)\n",
    "    data = data.fillna(data.mean())\n",
    "    return data"
   ],
   "metadata": {
    "collapsed": false,
    "pycharm": {
     "name": "#%%\n"
    }
   }
  },
  {
   "cell_type": "markdown",
   "source": [
    "#### Specificity function"
   ],
   "metadata": {
    "collapsed": false,
    "pycharm": {
     "name": "#%% md\n"
    }
   }
  },
  {
   "cell_type": "code",
   "execution_count": 51,
   "outputs": [],
   "source": [
    "def specificity(y_truth, y_pred):\n",
    "    tn, fp, fn, tp = confusion_matrix(y_truth, y_pred).ravel()\n",
    "\n",
    "    specificity = tn / (tn+fp)\n",
    "    return specificity"
   ],
   "metadata": {
    "collapsed": false,
    "pycharm": {
     "name": "#%%\n"
    }
   }
  },
  {
   "cell_type": "markdown",
   "source": [
    "#### Fit and Score function"
   ],
   "metadata": {
    "collapsed": false,
    "pycharm": {
     "name": "#%% md\n"
    }
   }
  },
  {
   "cell_type": "code",
   "execution_count": 52,
   "outputs": [],
   "source": [
    "def fit_and_score(model, train_index, valid_index, X, Y):\n",
    "    \"\"\"\n",
    "    function to use in a joblib parallel env, takes the inputs and returns metrics\n",
    "    return: (roc_train, roc_val, f1_train, f1_val)\n",
    "    \"\"\"\n",
    "    # get X and y vectors\n",
    "    x_train, x_valid = X.iloc[train_index], X.iloc[valid_index]\n",
    "    y_train, y_valid = Y.iloc[train_index], Y.iloc[valid_index]\n",
    "\n",
    "    # over sample x\n",
    "    #x_train, y_train = ros.fit_resample(x_train, y_train)\n",
    "\n",
    "    # preprocess\n",
    "#     x_train = ct.fit_transform(x_train)\n",
    "#     x_valid = ct.transform(x_valid)\n",
    "\n",
    "    # train model\n",
    "    model.fit(x_train, y_train)\n",
    "\n",
    "    # append scores\n",
    "    y_train_preds = model.predict(x_train)\n",
    "    y_valid_preds = model.predict(x_valid)\n",
    "\n",
    "    f1_train = f1_score(y_train, y_train_preds)\n",
    "    roc_train = roc_auc_score(y_train, model.predict_proba(x_train)[:,1])\n",
    "    mcc_train = matthews_corrcoef(y_train, y_train_preds)\n",
    "    acc_train = accuracy_score(y_train, y_train_preds)\n",
    "\n",
    "    f1_val = f1_score(y_valid, y_valid_preds)\n",
    "    roc_val = roc_auc_score(y_valid, model.predict_proba(x_valid)[:,1])\n",
    "    mcc_val = matthews_corrcoef(y_valid, y_valid_preds)\n",
    "    acc_val= accuracy_score(y_train, y_train_preds)\n",
    "\n",
    "    log_line = 'Train score: ' + str(acc_train) + ' Validation score: ' + str(roc_val)\n",
    "    tqdm.write(log_line)\n",
    "\n",
    "    return roc_train, roc_val, f1_train, f1_val, mcc_train, mcc_val"
   ],
   "metadata": {
    "collapsed": false,
    "pycharm": {
     "name": "#%%\n"
    }
   }
  },
  {
   "cell_type": "markdown",
   "source": [
    "#### Submission format function"
   ],
   "metadata": {
    "collapsed": false,
    "pycharm": {
     "name": "#%% md\n"
    }
   }
  },
  {
   "cell_type": "code",
   "execution_count": null,
   "outputs": [],
   "source": [
    "def submitformat(df, test_df):\n",
    "    df[df > 0.5] = 1\n",
    "    df[df <= 0.5] = 0\n",
    "    df = pd.DataFrame(df)\n",
    "    df.index = test_df.index\n",
    "    df = df.iloc[5::6, :]\n",
    "    df = df.astype(int)\n",
    "    return df"
   ],
   "metadata": {
    "collapsed": false,
    "pycharm": {
     "name": "#%%\n"
    }
   }
  },
  {
   "cell_type": "markdown",
   "source": [
    "### Preprocess train and test"
   ],
   "metadata": {
    "collapsed": false,
    "pycharm": {
     "name": "#%% md\n"
    }
   }
  },
  {
   "cell_type": "code",
   "execution_count": 53,
   "outputs": [],
   "source": [
    "X_train  = LagPreproc(train)\n",
    "X_test = LagPreproc(test)"
   ],
   "metadata": {
    "collapsed": false,
    "pycharm": {
     "name": "#%%\n"
    }
   }
  },
  {
   "cell_type": "code",
   "execution_count": 61,
   "outputs": [
    {
     "data": {
      "text/plain": "      Today      Lag1      Lag2      Lag3     Lag4      Lag5\n0  0.043343  0.043086  0.042972  0.043069  0.04265  0.042789\n1  0.138013  0.043086  0.042972  0.043069  0.04265  0.042789\n2  0.708801  0.138013  0.042972  0.043069  0.04265  0.042789\n3  0.703812  0.708801  0.138013  0.043069  0.04265  0.042789\n4 -0.446515  0.703812  0.708801  0.138013  0.04265  0.042789",
      "text/html": "<div>\n<style scoped>\n    .dataframe tbody tr th:only-of-type {\n        vertical-align: middle;\n    }\n\n    .dataframe tbody tr th {\n        vertical-align: top;\n    }\n\n    .dataframe thead th {\n        text-align: right;\n    }\n</style>\n<table border=\"1\" class=\"dataframe\">\n  <thead>\n    <tr style=\"text-align: right;\">\n      <th></th>\n      <th>Today</th>\n      <th>Lag1</th>\n      <th>Lag2</th>\n      <th>Lag3</th>\n      <th>Lag4</th>\n      <th>Lag5</th>\n    </tr>\n  </thead>\n  <tbody>\n    <tr>\n      <th>0</th>\n      <td>0.043343</td>\n      <td>0.043086</td>\n      <td>0.042972</td>\n      <td>0.043069</td>\n      <td>0.04265</td>\n      <td>0.042789</td>\n    </tr>\n    <tr>\n      <th>1</th>\n      <td>0.138013</td>\n      <td>0.043086</td>\n      <td>0.042972</td>\n      <td>0.043069</td>\n      <td>0.04265</td>\n      <td>0.042789</td>\n    </tr>\n    <tr>\n      <th>2</th>\n      <td>0.708801</td>\n      <td>0.138013</td>\n      <td>0.042972</td>\n      <td>0.043069</td>\n      <td>0.04265</td>\n      <td>0.042789</td>\n    </tr>\n    <tr>\n      <th>3</th>\n      <td>0.703812</td>\n      <td>0.708801</td>\n      <td>0.138013</td>\n      <td>0.043069</td>\n      <td>0.04265</td>\n      <td>0.042789</td>\n    </tr>\n    <tr>\n      <th>4</th>\n      <td>-0.446515</td>\n      <td>0.703812</td>\n      <td>0.708801</td>\n      <td>0.138013</td>\n      <td>0.04265</td>\n      <td>0.042789</td>\n    </tr>\n  </tbody>\n</table>\n</div>"
     },
     "execution_count": 61,
     "metadata": {},
     "output_type": "execute_result"
    }
   ],
   "source": [
    "X_train.head()"
   ],
   "metadata": {
    "collapsed": false,
    "pycharm": {
     "name": "#%%\n"
    }
   }
  },
  {
   "cell_type": "markdown",
   "source": [
    "## Models\n",
    "#### Logistic Regression Tuning"
   ],
   "metadata": {
    "collapsed": false,
    "pycharm": {
     "name": "#%% md\n"
    }
   }
  },
  {
   "cell_type": "code",
   "execution_count": 54,
   "outputs": [],
   "source": [
    "penalty = ['l1', 'l2']\n",
    "C = [0.0001, 0.001, 0.01, 0.1, 1, 10, 100, 1000]\n",
    "class_weight = [{1:0.5, 0:0.5}, {1:0.4, 0:0.6}, {1:0.6, 0:0.4}, {1:0.7, 0:0.3}]\n",
    "solver = ['liblinear', 'saga']\n",
    "\n",
    "param_grid = dict(penalty=penalty,\n",
    "                  C=C,\n",
    "                  class_weight=class_weight,\n",
    "                  solver=solver)\n",
    "\n",
    "grid = GridSearchCV(LogisticRegression(solver='liblinear'),\n",
    "                    param_grid=param_grid,\n",
    "                    scoring='roc_auc',\n",
    "                    verbose=1,\n",
    "                    n_jobs=-1)\n",
    "grid_result = grid.fit(X_train, Y_train)\n",
    "\n",
    "print('Best Score: ', grid_result.best_score_)\n",
    "print('Best Params: ', grid_result.best_params_)\n",
    "\n",
    "model = LogisticRegression(grid_result.best_params_)"
   ],
   "metadata": {
    "collapsed": false,
    "pycharm": {
     "name": "#%%\n"
    }
   }
  },
  {
   "cell_type": "markdown",
   "source": [
    "#### Decision Tree tuning"
   ],
   "metadata": {
    "collapsed": false,
    "pycharm": {
     "name": "#%% md\n"
    }
   }
  },
  {
   "cell_type": "code",
   "execution_count": null,
   "outputs": [],
   "source": [
    "config = {\n",
    "    'min_samples_leaf': [15, 19, 23, 25, 28, 30, 35, 40],\n",
    "    \"max_depth\": [5, 8, 10, 12]\n",
    "}\n",
    "model = TuneSearchCV(DecisionTreeClassifier(random_state=SEED),\n",
    "                          config,\n",
    "                          scoring='accuracy',\n",
    "                          n_jobs=-1, cv =5,\n",
    "                          search_optimization='bayesian',\n",
    "                          verbose=1,\n",
    "                          random_state=SEED)"
   ],
   "metadata": {
    "collapsed": false,
    "pycharm": {
     "name": "#%%\n"
    }
   }
  },
  {
   "cell_type": "markdown",
   "source": [
    "#### Random Forest"
   ],
   "metadata": {
    "collapsed": false,
    "pycharm": {
     "name": "#%% md\n"
    }
   }
  },
  {
   "cell_type": "code",
   "execution_count": 11,
   "outputs": [],
   "source": [
    "config = {\n",
    "    \"n_estimators\": [300, 400, 600, 650, 700, 750, 800, 1000],\n",
    "    'min_samples_leaf': [1, 2, 4],\n",
    "    'min_samples_split': [2, 5],\n",
    "    \"max_depth\": [9, 12] ,\n",
    "    #15, 18, 21, 24],\n",
    "    \"max_features\": ['auto', 'sqrt']\n",
    "}\n",
    "\n",
    "\n",
    "model = TuneSearchCV(RandomForestClassifier(n_jobs= -1, verbose = 1,\n",
    "                                                  random_state=SEED),\n",
    "                          config,\n",
    "                          scoring='accuracy',\n",
    "                          n_jobs=-1, cv=5,\n",
    "                          search_optimization='bayesian',\n",
    "                          verbose=1,\n",
    "                          random_state=SEED)\n"
   ],
   "metadata": {
    "collapsed": false,
    "pycharm": {
     "name": "#%%\n"
    }
   }
  },
  {
   "cell_type": "markdown",
   "source": [
    "#### LightGBM"
   ],
   "metadata": {
    "collapsed": false,
    "pycharm": {
     "name": "#%% md\n"
    }
   }
  },
  {
   "cell_type": "code",
   "execution_count": 19,
   "outputs": [],
   "source": [
    "config = {\n",
    "    \"n_estimators\": [400, 600, 700, 800, 1000],\n",
    "    \"colsample_bytree\": [0.7, 0.8],\n",
    "    \"max_depth\": [5, 10, 15, 20, 25],\n",
    "    \"num_leaves\": [50, 100, 200],\n",
    "    \"reg_lambda\": [1.1, 1.2, 1.3],\n",
    "    \"min_split_gain\": [0.3, 0.4],\n",
    "    \"subsample\": [0.7, 0.8, 0.9],\n",
    "    \"learning_rate\": [0.05, 0.1]\n",
    "}\n",
    "model = TuneSearchCV(LGBMClassifier(n_jobs=-1, random_state=SEED),\n",
    "                          config,\n",
    "                          scoring='accuracy',\n",
    "                          n_jobs=-1, cv=5,\n",
    "                          search_optimization='bayesian',\n",
    "                          verbose=1,\n",
    "                          random_state=SEED)"
   ],
   "metadata": {
    "collapsed": false,
    "pycharm": {
     "name": "#%%\n"
    }
   }
  },
  {
   "cell_type": "markdown",
   "source": [
    "#### XGBoost Tuning"
   ],
   "metadata": {
    "collapsed": false,
    "pycharm": {
     "name": "#%% md\n"
    }
   }
  },
  {
   "cell_type": "code",
   "execution_count": 13,
   "outputs": [],
   "source": [
    "config = {\n",
    "    \"n_estimators\": [100, 200, 300, 400, 600, 700, 800],\n",
    "    \"colsample_bytree\": [0.7, 0.8],\n",
    "    \"min_child_weight\": [1,3,5,7] ,\n",
    "    \"max_depth\": [3, 6, 9, 12],\n",
    "    \"learning_rate\": [0.05, 0.1]\n",
    "}\n",
    "\n",
    "model = TuneSearchCV(XGBClassifier(n_jobs=-1, random_state=SEED),\n",
    "                          config,\n",
    "                          scoring='accuracy',\n",
    "                          n_jobs=-1, cv=5,\n",
    "                          search_optimization='bayesian',\n",
    "                          verbose=1,\n",
    "                          random_state=SEED)"
   ],
   "metadata": {
    "collapsed": false,
    "pycharm": {
     "name": "#%%\n"
    }
   }
  },
  {
   "cell_type": "markdown",
   "source": [
    "#### SVC Tuning"
   ],
   "metadata": {
    "collapsed": false,
    "pycharm": {
     "name": "#%% md\n"
    }
   }
  },
  {
   "cell_type": "code",
   "execution_count": 32,
   "outputs": [],
   "source": [
    "config = {'C': [0.1, 1, 10, 100, 1000],\n",
    "              'gamma': [1, 0.1, 0.01, 0.001, 0.0001],\n",
    "              'kernel': ['rbf']}\n",
    "\n",
    "model = TuneSearchCV(SVC(n_jobs=-1, random_state=SEED),\n",
    "                          config,\n",
    "                          scoring='accuracy',\n",
    "                          n_jobs=-1, cv = 5,\n",
    "                          search_optimization='bayesian',\n",
    "                          verbose=1,\n",
    "                          random_state=SEED)"
   ],
   "metadata": {
    "collapsed": false,
    "pycharm": {
     "name": "#%%\n"
    }
   }
  },
  {
   "cell_type": "markdown",
   "source": [
    "#### Knn Tuning"
   ],
   "metadata": {
    "collapsed": false,
    "pycharm": {
     "name": "#%% md\n"
    }
   }
  },
  {
   "cell_type": "code",
   "execution_count": 33,
   "outputs": [],
   "source": [
    "config = {'leaf_size' : list(range(1,100)),\n",
    "          'n_neighbors' : list(range(1,100))\n",
    "          'p':[1,2]\n",
    "}\n",
    "\n",
    "model = TuneSearchCV(KNeighborsClassifier(n_jobs=-1, random_state=SEED),\n",
    "                          config,\n",
    "                          scoring='accuracy',\n",
    "                          n_jobs=-1, cv = 5,\n",
    "                          search_optimization='bayesian',\n",
    "                          verbose=1,\n",
    "                          random_state=SEED)"
   ],
   "metadata": {
    "collapsed": false,
    "pycharm": {
     "name": "#%%\n"
    }
   }
  },
  {
   "cell_type": "markdown",
   "source": [
    "## Parallel Process\n",
    "\n"
   ],
   "metadata": {
    "collapsed": false,
    "pycharm": {
     "name": "#%% md\n"
    }
   }
  },
  {
   "cell_type": "markdown",
   "source": [
    "kfolds = StratifiedKFold(n_splits=5, shuffle=True)\n",
    "n_jobs = -1\n",
    "\n",
    "st = time()\n",
    "\n",
    "if n_jobs == 1:\n",
    "    print('Running single process loop')\n",
    "    res = []\n",
    "\n",
    "    for train_index, valid_index in tqdm(kfolds.split(X_train, Y_train)):\n",
    "        res.append(fit_and_score(clone(model), train_index, valid_index, X_train, Y_train))\n",
    "else:\n",
    "    print('Running parallel loop')\n",
    "    parallel = Parallel(n_jobs=n_jobs, verbose=1)\n",
    "    res = parallel(delayed(fit_and_score)(clone(model), train_idx, valid_idx, X_train, Y_train)\n",
    "              for train_idx, valid_idx in kfolds.split(X_train, Y_train))\n",
    "\n",
    "\n",
    "end = time()\n",
    "\n",
    "print('Total time taken ', (end - st)/60, ' mins')"
   ],
   "metadata": {
    "collapsed": false,
    "pycharm": {
     "name": "#%% md\n"
    }
   }
  },
  {
   "cell_type": "markdown",
   "source": [
    "## Metrics"
   ],
   "metadata": {
    "collapsed": false,
    "pycharm": {
     "name": "#%% md\n"
    }
   }
  },
  {
   "cell_type": "markdown",
   "source": [
    "res = pd.DataFrame(res, columns=['ROC_train', 'ROC_val', 'F1_train', 'F1_val', 'MCC_train', 'MCC_val'])\n",
    "res"
   ],
   "metadata": {
    "collapsed": false,
    "pycharm": {
     "name": "#%% md\n"
    }
   }
  },
  {
   "cell_type": "markdown",
   "source": [
    "print('Mean roc auc (train, valid) : ', res['ROC_train'].mean(), ', ', res['ROC_val'].mean())"
   ],
   "metadata": {
    "collapsed": false,
    "pycharm": {
     "name": "#%% md\n"
    }
   }
  },
  {
   "cell_type": "markdown",
   "source": [
    "## Training on Entire dataset"
   ],
   "metadata": {
    "collapsed": false,
    "pycharm": {
     "name": "#%% md\n"
    }
   }
  },
  {
   "cell_type": "code",
   "execution_count": 59,
   "outputs": [
    {
     "data": {
      "text/plain": "DecisionTreeClassifier(max_depth=10, min_samples_leaf=30)"
     },
     "execution_count": 59,
     "metadata": {},
     "output_type": "execute_result"
    }
   ],
   "source": [
    "model.fit(X_train, Y_train)"
   ],
   "metadata": {
    "collapsed": false,
    "pycharm": {
     "name": "#%%\n"
    }
   }
  },
  {
   "cell_type": "markdown",
   "source": [
    "## Model Performance"
   ],
   "metadata": {
    "collapsed": false,
    "pycharm": {
     "name": "#%% md\n"
    }
   }
  },
  {
   "cell_type": "code",
   "execution_count": 60,
   "outputs": [
    {
     "name": "stdout",
     "output_type": "stream",
     "text": [
      "Training score:  0.7124645781816231\n",
      "              precision    recall  f1-score   support\n",
      "\n",
      "           0       0.64      0.66      0.65       981\n",
      "           1       0.67      0.65      0.66      1045\n",
      "\n",
      "    accuracy                           0.65      2026\n",
      "   macro avg       0.65      0.65      0.65      2026\n",
      "weighted avg       0.65      0.65      0.65      2026\n",
      "\n"
     ]
    }
   ],
   "source": [
    "# model_pipe.roc_auc_score(X_train,Y_train)\n",
    "Y_train_preds = model.predict_proba(X_train)[:,1]\n",
    "Y_train_preds = np.round(Y_train_preds).astype(int)\n",
    "train_score = accuracy_score(Y_train,Y_train_preds)\n",
    "\n",
    "Y_test_preds = model.predict_proba(X_test)[:,1]\n",
    "\n",
    "print('Training score: ', train_score)\n",
    "print(classification_report(Y_train, model.predict(X_train)))"
   ],
   "metadata": {
    "collapsed": false,
    "pycharm": {
     "name": "#%%\n"
    }
   }
  },
  {
   "cell_type": "code",
   "execution_count": null,
   "outputs": [],
   "source": [],
   "metadata": {
    "collapsed": false,
    "pycharm": {
     "name": "#%%\n"
    }
   }
  }
 ],
 "metadata": {
  "kernelspec": {
   "display_name": "Python 3",
   "language": "python",
   "name": "python3"
  },
  "language_info": {
   "codemirror_mode": {
    "name": "ipython",
    "version": 2
   },
   "file_extension": ".py",
   "mimetype": "text/x-python",
   "name": "python",
   "nbconvert_exporter": "python",
   "pygments_lexer": "ipython2",
   "version": "2.7.6"
  }
 },
 "nbformat": 4,
 "nbformat_minor": 0
}
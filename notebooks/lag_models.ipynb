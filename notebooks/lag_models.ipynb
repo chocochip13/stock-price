{
 "cells": [
  {
   "cell_type": "markdown",
   "metadata": {
    "collapsed": true,
    "pycharm": {
     "name": "#%% md\n"
    }
   },
   "source": [
    "## Load Libraries"
   ]
  },
  {
   "cell_type": "code",
   "execution_count": 1,
   "outputs": [
    {
     "data": {
      "text/html": "        <script type=\"text/javascript\">\n        window.PlotlyConfig = {MathJaxConfig: 'local'};\n        if (window.MathJax) {MathJax.Hub.Config({SVG: {font: \"STIX-Web\"}});}\n        if (typeof require !== 'undefined') {\n        require.undef(\"plotly\");\n        requirejs.config({\n            paths: {\n                'plotly': ['https://cdn.plot.ly/plotly-latest.min']\n            }\n        });\n        require(['plotly'], function(Plotly) {\n            window._Plotly = Plotly;\n        });\n        }\n        </script>\n        "
     },
     "metadata": {},
     "output_type": "display_data"
    }
   ],
   "source": [
    "import pandas as pd\n",
    "import numpy as np\n",
    "import random as rnd\n",
    "import datetime\n",
    "\n",
    "# visualization\n",
    "import seaborn as sns\n",
    "import matplotlib.pyplot as plt\n",
    "#sns.set_style('whitegrid')\n",
    "%matplotlib inline\n",
    "\n",
    "# plotly\n",
    "import plotly\n",
    "import plotly.graph_objects as go\n",
    "import plotly.express as px\n",
    "from plotly.subplots import make_subplots\n",
    "import cufflinks as cf\n",
    "cf.go_offline()\n",
    "\n",
    "from fastai.tabular.all import *\n",
    "\n",
    "# SKlearn\n",
    "from sklearn.linear_model import LogisticRegression\n",
    "from sklearn.neighbors import KNeighborsClassifier\n",
    "from sklearn.svm import SVC\n",
    "from xgboost import XGBClassifier\n",
    "from lightgbm.sklearn import LGBMClassifier\n",
    "from sklearn.tree import DecisionTreeClassifier\n",
    "from sklearn.ensemble import RandomForestClassifier\n",
    "from sklearn.model_selection import StratifiedKFold\n",
    "from sklearn.metrics import *\n",
    "from time import time\n",
    "\n",
    "\n",
    "from tqdm import tqdm\n",
    "from joblib import Parallel, delayed\n",
    "from sklearn.base import clone\n"
   ],
   "metadata": {
    "collapsed": false,
    "pycharm": {
     "name": "#%%\n"
    }
   }
  },
  {
   "cell_type": "markdown",
   "source": [
    "## Load Data"
   ],
   "metadata": {
    "collapsed": false
   }
  },
  {
   "cell_type": "code",
   "execution_count": 2,
   "outputs": [],
   "source": [
    "filepath = \"/Users/Kapil/PycharmProjects/stock-price\"\n",
    "train = pd.read_csv(filepath + \"/data/train.csv\")\n",
    "test = pd.read_csv(filepath + \"/data/test.csv\")"
   ],
   "metadata": {
    "collapsed": false,
    "pycharm": {
     "name": "#%%\n"
    }
   }
  },
  {
   "cell_type": "code",
   "execution_count": 3,
   "outputs": [],
   "source": [
    "SEED = 13\n",
    "np.random.seed(SEED)"
   ],
   "metadata": {
    "collapsed": false,
    "pycharm": {
     "name": "#%%\n"
    }
   }
  },
  {
   "cell_type": "code",
   "execution_count": 4,
   "outputs": [],
   "source": [
    "Y_train = train['Up']\n",
    "#X_train = train.drop(['Up'], axis = 1)"
   ],
   "metadata": {
    "collapsed": false,
    "pycharm": {
     "name": "#%%\n"
    }
   }
  },
  {
   "cell_type": "markdown",
   "source": [
    "## Functions\n",
    "#### Preprocessing function"
   ],
   "metadata": {
    "collapsed": false,
    "pycharm": {
     "name": "#%% md\n"
    }
   }
  },
  {
   "cell_type": "code",
   "execution_count": 23,
   "outputs": [],
   "source": [
    "def LagPreproc(df):\n",
    "    data = pd.DataFrame()\n",
    "    data['Today'] = df['Close'].pct_change() * 100\n",
    "    #data = data.rename(\"Today\")\n",
    "    for i in range(1,6):\n",
    "        data['Lag'+str(i)] = data['Today'].shift(i)\n",
    "    data = data.fillna(data.mean())\n",
    "    return data"
   ],
   "metadata": {
    "collapsed": false,
    "pycharm": {
     "name": "#%%\n"
    }
   }
  },
  {
   "cell_type": "markdown",
   "source": [
    "#### Specificity function"
   ],
   "metadata": {
    "collapsed": false,
    "pycharm": {
     "name": "#%% md\n"
    }
   }
  },
  {
   "cell_type": "code",
   "execution_count": 24,
   "outputs": [],
   "source": [
    "def specificity(y_truth, y_pred):\n",
    "    tn, fp, fn, tp = confusion_matrix(y_truth, y_pred).ravel()\n",
    "\n",
    "    specificity = tn / (tn+fp)\n",
    "    return specificity"
   ],
   "metadata": {
    "collapsed": false,
    "pycharm": {
     "name": "#%%\n"
    }
   }
  },
  {
   "cell_type": "markdown",
   "source": [
    "#### Fit and Score function"
   ],
   "metadata": {
    "collapsed": false,
    "pycharm": {
     "name": "#%% md\n"
    }
   }
  },
  {
   "cell_type": "code",
   "execution_count": 25,
   "outputs": [],
   "source": [
    "def fit_and_score(model, train_index, valid_index, X, Y):\n",
    "    \"\"\"\n",
    "    function to use in a joblib parallel env, takes the inputs and returns metrics\n",
    "    return: (roc_train, roc_val, f1_train, f1_val)\n",
    "    \"\"\"\n",
    "    # get X and y vectors\n",
    "    x_train, x_valid = X.iloc[train_index], X.iloc[valid_index]\n",
    "    y_train, y_valid = Y.iloc[train_index], Y.iloc[valid_index]\n",
    "\n",
    "    # over sample x\n",
    "    #x_train, y_train = ros.fit_resample(x_train, y_train)\n",
    "\n",
    "    # preprocess\n",
    "#     x_train = ct.fit_transform(x_train)\n",
    "#     x_valid = ct.transform(x_valid)\n",
    "\n",
    "    # train model\n",
    "    model.fit(x_train, y_train)\n",
    "\n",
    "    # append scores\n",
    "    y_train_preds = model.predict(x_train)\n",
    "    y_valid_preds = model.predict(x_valid)\n",
    "\n",
    "    f1_train = f1_score(y_train, y_train_preds)\n",
    "    roc_train = roc_auc_score(y_train, model.predict_proba(x_train)[:,1])\n",
    "    mcc_train = matthews_corrcoef(y_train, y_train_preds)\n",
    "\n",
    "    f1_val = f1_score(y_valid, y_valid_preds)\n",
    "    roc_val = roc_auc_score(y_valid, model.predict_proba(x_valid)[:,1])\n",
    "    mcc_val = matthews_corrcoef(y_valid, y_valid_preds)\n",
    "\n",
    "    log_line = 'Train score: ' + str(roc_train) + ' Validation score: ' + str(roc_val)\n",
    "    tqdm.write(log_line)\n",
    "\n",
    "    return roc_train, roc_val, f1_train, f1_val, mcc_train, mcc_val"
   ],
   "metadata": {
    "collapsed": false,
    "pycharm": {
     "name": "#%%\n"
    }
   }
  },
  {
   "cell_type": "markdown",
   "source": [
    "### Preprocess train and test"
   ],
   "metadata": {
    "collapsed": false,
    "pycharm": {
     "name": "#%% md\n"
    }
   }
  },
  {
   "cell_type": "code",
   "execution_count": 26,
   "outputs": [],
   "source": [
    "X_train  = LagPreproc(train)\n",
    "X_test = LagPreproc(test)\n"
   ],
   "metadata": {
    "collapsed": false,
    "pycharm": {
     "name": "#%%\n"
    }
   }
  },
  {
   "cell_type": "markdown",
   "source": [
    "## Models\n",
    "#### Logistic Regression"
   ],
   "metadata": {
    "collapsed": false,
    "pycharm": {
     "name": "#%% md\n"
    }
   }
  },
  {
   "cell_type": "code",
   "execution_count": 27,
   "outputs": [],
   "source": [
    "model = LogisticRegression()"
   ],
   "metadata": {
    "collapsed": false,
    "pycharm": {
     "name": "#%%\n"
    }
   }
  },
  {
   "cell_type": "markdown",
   "source": [
    "#### Decision Tree"
   ],
   "metadata": {
    "collapsed": false,
    "pycharm": {
     "name": "#%% md\n"
    }
   }
  },
  {
   "cell_type": "code",
   "execution_count": 28,
   "outputs": [],
   "source": [
    "model = DecisionTreeClassifier()"
   ],
   "metadata": {
    "collapsed": false,
    "pycharm": {
     "name": "#%%\n"
    }
   }
  },
  {
   "cell_type": "markdown",
   "source": [
    "#### Random Forest"
   ],
   "metadata": {
    "collapsed": false,
    "pycharm": {
     "name": "#%% md\n"
    }
   }
  },
  {
   "cell_type": "code",
   "execution_count": 29,
   "outputs": [],
   "source": [
    "model = RandomForestClassifier()"
   ],
   "metadata": {
    "collapsed": false,
    "pycharm": {
     "name": "#%%\n"
    }
   }
  },
  {
   "cell_type": "markdown",
   "source": [
    "#### LightGBM"
   ],
   "metadata": {
    "collapsed": false,
    "pycharm": {
     "name": "#%% md\n"
    }
   }
  },
  {
   "cell_type": "code",
   "execution_count": 30,
   "outputs": [],
   "source": [
    "model = LGBMClassifier()"
   ],
   "metadata": {
    "collapsed": false,
    "pycharm": {
     "name": "#%%\n"
    }
   }
  },
  {
   "cell_type": "markdown",
   "source": [
    "#### XGBoost\n"
   ],
   "metadata": {
    "collapsed": false,
    "pycharm": {
     "name": "#%% md\n"
    }
   }
  },
  {
   "cell_type": "code",
   "execution_count": 31,
   "outputs": [],
   "source": [
    "model = XGBClassifier()"
   ],
   "metadata": {
    "collapsed": false,
    "pycharm": {
     "name": "#%%\n"
    }
   }
  },
  {
   "cell_type": "markdown",
   "source": [
    "#### SVC"
   ],
   "metadata": {
    "collapsed": false,
    "pycharm": {
     "name": "#%% md\n"
    }
   }
  },
  {
   "cell_type": "code",
   "execution_count": 32,
   "outputs": [],
   "source": [
    "model = SVC()"
   ],
   "metadata": {
    "collapsed": false,
    "pycharm": {
     "name": "#%%\n"
    }
   }
  },
  {
   "cell_type": "markdown",
   "source": [
    "#### Knn"
   ],
   "metadata": {
    "collapsed": false,
    "pycharm": {
     "name": "#%% md\n"
    }
   }
  },
  {
   "cell_type": "code",
   "execution_count": 33,
   "outputs": [],
   "source": [
    "model = KNeighborsClassifier()"
   ],
   "metadata": {
    "collapsed": false,
    "pycharm": {
     "name": "#%%\n"
    }
   }
  },
  {
   "cell_type": "markdown",
   "source": [
    "## Parallel Process\n",
    "\n",
    "\n"
   ],
   "metadata": {
    "collapsed": false,
    "pycharm": {
     "name": "#%% md\n"
    }
   }
  },
  {
   "cell_type": "code",
   "execution_count": 34,
   "outputs": [
    {
     "name": "stdout",
     "output_type": "stream",
     "text": [
      "Running parallel loop\n"
     ]
    },
    {
     "name": "stderr",
     "output_type": "stream",
     "text": [
      "[Parallel(n_jobs=-1)]: Using backend LokyBackend with 4 concurrent workers.\n"
     ]
    },
    {
     "name": "stdout",
     "output_type": "stream",
     "text": [
      "Total time taken  0.10246673425038656  mins\n"
     ]
    },
    {
     "name": "stderr",
     "output_type": "stream",
     "text": [
      "[Parallel(n_jobs=-1)]: Done   5 out of   5 | elapsed:    6.1s finished\n"
     ]
    }
   ],
   "source": [
    "kfolds = StratifiedKFold(n_splits=5, shuffle=True)\n",
    "n_jobs = -1\n",
    "\n",
    "st = time()\n",
    "\n",
    "if n_jobs == 1:\n",
    "    print('Running single process loop')\n",
    "    res = []\n",
    "\n",
    "    for train_index, valid_index in tqdm(kfolds.split(X_train, Y_train)):\n",
    "        res.append(fit_and_score(clone(model), train_index, valid_index, X_train, Y_train))\n",
    "else:\n",
    "    print('Running parallel loop')\n",
    "    parallel = Parallel(n_jobs=n_jobs, verbose=1)\n",
    "    res = parallel(delayed(fit_and_score)(clone(model), train_idx, valid_idx, X_train, Y_train)\n",
    "              for train_idx, valid_idx in kfolds.split(X_train, Y_train))\n",
    "\n",
    "\n",
    "end = time()\n",
    "\n",
    "print('Total time taken ', (end - st)/60, ' mins')"
   ],
   "metadata": {
    "collapsed": false,
    "pycharm": {
     "name": "#%%\n"
    }
   }
  },
  {
   "cell_type": "markdown",
   "source": [
    "## Metrics"
   ],
   "metadata": {
    "collapsed": false,
    "pycharm": {
     "name": "#%% md\n"
    }
   }
  },
  {
   "cell_type": "code",
   "execution_count": 35,
   "outputs": [
    {
     "data": {
      "text/plain": "   ROC_train   ROC_val  F1_train    F1_val  MCC_train   MCC_val\n0   0.757764  0.530433  0.699642  0.521739   0.376998  0.024351\n1   0.757041  0.538985  0.700243  0.548463   0.390636  0.055084\n2   0.766205  0.506567  0.707954  0.524038   0.406721  0.021525\n3   0.751494  0.517711  0.694712  0.513447   0.372819  0.017691\n4   0.762609  0.518419  0.700896  0.533958   0.381181  0.014878",
      "text/html": "<div>\n<style scoped>\n    .dataframe tbody tr th:only-of-type {\n        vertical-align: middle;\n    }\n\n    .dataframe tbody tr th {\n        vertical-align: top;\n    }\n\n    .dataframe thead th {\n        text-align: right;\n    }\n</style>\n<table border=\"1\" class=\"dataframe\">\n  <thead>\n    <tr style=\"text-align: right;\">\n      <th></th>\n      <th>ROC_train</th>\n      <th>ROC_val</th>\n      <th>F1_train</th>\n      <th>F1_val</th>\n      <th>MCC_train</th>\n      <th>MCC_val</th>\n    </tr>\n  </thead>\n  <tbody>\n    <tr>\n      <th>0</th>\n      <td>0.757764</td>\n      <td>0.530433</td>\n      <td>0.699642</td>\n      <td>0.521739</td>\n      <td>0.376998</td>\n      <td>0.024351</td>\n    </tr>\n    <tr>\n      <th>1</th>\n      <td>0.757041</td>\n      <td>0.538985</td>\n      <td>0.700243</td>\n      <td>0.548463</td>\n      <td>0.390636</td>\n      <td>0.055084</td>\n    </tr>\n    <tr>\n      <th>2</th>\n      <td>0.766205</td>\n      <td>0.506567</td>\n      <td>0.707954</td>\n      <td>0.524038</td>\n      <td>0.406721</td>\n      <td>0.021525</td>\n    </tr>\n    <tr>\n      <th>3</th>\n      <td>0.751494</td>\n      <td>0.517711</td>\n      <td>0.694712</td>\n      <td>0.513447</td>\n      <td>0.372819</td>\n      <td>0.017691</td>\n    </tr>\n    <tr>\n      <th>4</th>\n      <td>0.762609</td>\n      <td>0.518419</td>\n      <td>0.700896</td>\n      <td>0.533958</td>\n      <td>0.381181</td>\n      <td>0.014878</td>\n    </tr>\n  </tbody>\n</table>\n</div>"
     },
     "execution_count": 35,
     "metadata": {},
     "output_type": "execute_result"
    }
   ],
   "source": [
    "res = pd.DataFrame(res, columns=['ROC_train', 'ROC_val', 'F1_train', 'F1_val', 'MCC_train', 'MCC_val'])\n",
    "res"
   ],
   "metadata": {
    "collapsed": false,
    "pycharm": {
     "name": "#%%\n"
    }
   }
  },
  {
   "cell_type": "code",
   "execution_count": 36,
   "outputs": [
    {
     "name": "stdout",
     "output_type": "stream",
     "text": [
      "Mean roc auc (train, valid) :  0.7590227931220641 ,  0.52242280828976\n"
     ]
    }
   ],
   "source": [
    "print('Mean roc auc (train, valid) : ', res['ROC_train'].mean(), ', ', res['ROC_val'].mean())"
   ],
   "metadata": {
    "collapsed": false,
    "pycharm": {
     "name": "#%%\n"
    }
   }
  },
  {
   "cell_type": "markdown",
   "source": [
    "## Training on Entire dataset"
   ],
   "metadata": {
    "collapsed": false,
    "pycharm": {
     "name": "#%% md\n"
    }
   }
  },
  {
   "cell_type": "code",
   "execution_count": 37,
   "outputs": [
    {
     "data": {
      "text/plain": "KNeighborsClassifier()"
     },
     "execution_count": 37,
     "metadata": {},
     "output_type": "execute_result"
    }
   ],
   "source": [
    "model.fit(X_train, Y_train)"
   ],
   "metadata": {
    "collapsed": false,
    "pycharm": {
     "name": "#%%\n"
    }
   }
  },
  {
   "cell_type": "markdown",
   "source": [
    "## Model Performance"
   ],
   "metadata": {
    "collapsed": false,
    "pycharm": {
     "name": "#%% md\n"
    }
   }
  },
  {
   "cell_type": "code",
   "execution_count": 38,
   "outputs": [
    {
     "name": "stdout",
     "output_type": "stream",
     "text": [
      "Training score:  0.7550219725014511\n",
      "              precision    recall  f1-score   support\n",
      "\n",
      "           0       0.68      0.68      0.68       981\n",
      "           1       0.70      0.70      0.70      1045\n",
      "\n",
      "    accuracy                           0.69      2026\n",
      "   macro avg       0.69      0.69      0.69      2026\n",
      "weighted avg       0.69      0.69      0.69      2026\n",
      "\n"
     ]
    }
   ],
   "source": [
    "# model_pipe.roc_auc_score(X_train,Y_train)\n",
    "Y_train_preds = model.predict_proba(X_train)[:,1]\n",
    "train_score = roc_auc_score(Y_train,Y_train_preds)\n",
    "\n",
    "Y_test_preds = model.predict_proba(X_test)[:,1]\n",
    "\n",
    "print('Training score: ', train_score)\n",
    "print(classification_report(Y_train, model.predict(X_train)))"
   ],
   "metadata": {
    "collapsed": false,
    "pycharm": {
     "name": "#%%\n"
    }
   }
  },
  {
   "cell_type": "code",
   "execution_count": null,
   "outputs": [],
   "source": [],
   "metadata": {
    "collapsed": false,
    "pycharm": {
     "name": "#%%\n"
    }
   }
  }
 ],
 "metadata": {
  "kernelspec": {
   "display_name": "Python 3",
   "language": "python",
   "name": "python3"
  },
  "language_info": {
   "codemirror_mode": {
    "name": "ipython",
    "version": 2
   },
   "file_extension": ".py",
   "mimetype": "text/x-python",
   "name": "python",
   "nbconvert_exporter": "python",
   "pygments_lexer": "ipython2",
   "version": "2.7.6"
  }
 },
 "nbformat": 4,
 "nbformat_minor": 0
}
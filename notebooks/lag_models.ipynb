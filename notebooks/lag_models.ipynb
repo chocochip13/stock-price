{
 "cells": [
  {
   "cell_type": "markdown",
   "metadata": {
    "collapsed": true,
    "pycharm": {
     "name": "#%% md\n"
    }
   },
   "source": [
    "## Load Libraries"
   ]
  },
  {
   "cell_type": "code",
   "execution_count": 6,
   "outputs": [
    {
     "data": {
      "text/html": "        <script type=\"text/javascript\">\n        window.PlotlyConfig = {MathJaxConfig: 'local'};\n        if (window.MathJax) {MathJax.Hub.Config({SVG: {font: \"STIX-Web\"}});}\n        if (typeof require !== 'undefined') {\n        require.undef(\"plotly\");\n        requirejs.config({\n            paths: {\n                'plotly': ['https://cdn.plot.ly/plotly-latest.min']\n            }\n        });\n        require(['plotly'], function(Plotly) {\n            window._Plotly = Plotly;\n        });\n        }\n        </script>\n        "
     },
     "metadata": {},
     "output_type": "display_data"
    }
   ],
   "source": [
    "import pandas as pd\n",
    "import numpy as np\n",
    "import random as rnd\n",
    "import datetime\n",
    "\n",
    "# visualization\n",
    "import seaborn as sns\n",
    "import matplotlib.pyplot as plt\n",
    "#sns.set_style('whitegrid')\n",
    "%matplotlib inline\n",
    "\n",
    "# plotly\n",
    "import plotly\n",
    "import plotly.graph_objects as go\n",
    "import plotly.express as px\n",
    "from plotly.subplots import make_subplots\n",
    "import cufflinks as cf\n",
    "cf.go_offline()\n",
    "\n",
    "from fastai.tabular.all import *\n",
    "\n",
    "# SKlearn\n",
    "from sklearn.linear_model import LogisticRegression\n",
    "from sklearn.neighbors import KNeighborsClassifier\n",
    "from sklearn.svm import SVC\n",
    "from xgboost import XGBClassifier\n",
    "from lightgbm.sklearn import LGBMClassifier\n",
    "from sklearn.tree import DecisionTreeClassifier\n",
    "from sklearn.ensemble import RandomForestClassifier\n",
    "from sklearn.model_selection import StratifiedKFold\n",
    "from sklearn.metrics import *\n",
    "from sklearn.model_selection import GridSearchCV\n",
    "\n",
    "from time import time\n",
    "\n",
    "\n",
    "from tqdm import tqdm\n",
    "from joblib import Parallel, delayed\n",
    "from sklearn.base import clone\n",
    "\n",
    "from tune_sklearn import TuneSearchCV\n",
    "from tabulate import tabulate\n",
    "\n",
    "import joblib"
   ],
   "metadata": {
    "collapsed": false,
    "pycharm": {
     "name": "#%%\n"
    }
   }
  },
  {
   "cell_type": "markdown",
   "source": [
    "## Load Data"
   ],
   "metadata": {
    "collapsed": false
   }
  },
  {
   "cell_type": "code",
   "execution_count": 7,
   "outputs": [],
   "source": [
    "filepath = \"/Users/Kapil/PycharmProjects/stock-price\"\n",
    "train = pd.read_csv(filepath + \"/data/train.csv\")\n",
    "test = pd.read_csv(filepath + \"/data/test.csv\")"
   ],
   "metadata": {
    "collapsed": false,
    "pycharm": {
     "name": "#%%\n"
    }
   }
  },
  {
   "cell_type": "code",
   "execution_count": 8,
   "outputs": [],
   "source": [
    "SEED = 13\n",
    "np.random.seed(SEED)"
   ],
   "metadata": {
    "collapsed": false,
    "pycharm": {
     "name": "#%%\n"
    }
   }
  },
  {
   "cell_type": "code",
   "execution_count": 9,
   "outputs": [],
   "source": [
    "Y_trainW = train['Up']\n",
    "X_trainW = train.drop(['Up'], axis = 1)"
   ],
   "metadata": {
    "collapsed": false,
    "pycharm": {
     "name": "#%%\n"
    }
   }
  },
  {
   "cell_type": "markdown",
   "source": [
    "## Functions\n",
    "#### Preprocessing function"
   ],
   "metadata": {
    "collapsed": false,
    "pycharm": {
     "name": "#%% md\n"
    }
   }
  },
  {
   "cell_type": "code",
   "execution_count": 10,
   "outputs": [],
   "source": [
    "def LagPreproc(df):\n",
    "    data = pd.DataFrame()\n",
    "    data['Today'] = df['Close'].pct_change() * 100\n",
    "    #data = data.rename(\"Today\")\n",
    "    for i in range(1,6):\n",
    "        data['Lag'+str(i)] = data['Today'].shift(i)\n",
    "    data = data.fillna(data.mean())\n",
    "    return data"
   ],
   "metadata": {
    "collapsed": false,
    "pycharm": {
     "name": "#%%\n"
    }
   }
  },
  {
   "cell_type": "markdown",
   "source": [
    "#### Specificity function"
   ],
   "metadata": {
    "collapsed": false,
    "pycharm": {
     "name": "#%% md\n"
    }
   }
  },
  {
   "cell_type": "code",
   "execution_count": 11,
   "outputs": [],
   "source": [
    "def specificity(y_truth, y_pred):\n",
    "    tn, fp, fn, tp = confusion_matrix(y_truth, y_pred).ravel()\n",
    "\n",
    "    specificity = tn / (tn+fp)\n",
    "    return specificity\n"
   ],
   "metadata": {
    "collapsed": false,
    "pycharm": {
     "name": "#%%\n"
    }
   }
  },
  {
   "cell_type": "markdown",
   "source": [
    "#### Submission format function"
   ],
   "metadata": {
    "collapsed": false,
    "pycharm": {
     "name": "#%% md\n"
    }
   }
  },
  {
   "cell_type": "code",
   "execution_count": 13,
   "outputs": [],
   "source": [
    "def submitformat(df, test_df):\n",
    "    df[df > 0.5] = 1\n",
    "    df[df <= 0.5] = 0\n",
    "    df = pd.DataFrame(df)\n",
    "    df.index = test_df.index\n",
    "    df = df.iloc[5::6, :]\n",
    "    df = df.astype(int)\n",
    "    return df"
   ],
   "metadata": {
    "collapsed": false,
    "pycharm": {
     "name": "#%%\n"
    }
   }
  },
  {
   "cell_type": "markdown",
   "source": [
    "### Preprocess train and test"
   ],
   "metadata": {
    "collapsed": false,
    "pycharm": {
     "name": "#%% md\n"
    }
   }
  },
  {
   "cell_type": "code",
   "execution_count": 14,
   "outputs": [],
   "source": [
    "X_trainW  = LagPreproc(X_trainW)\n",
    "X_test = LagPreproc(test)"
   ],
   "metadata": {
    "collapsed": false,
    "pycharm": {
     "name": "#%%\n"
    }
   }
  },
  {
   "cell_type": "code",
   "execution_count": null,
   "outputs": [],
   "source": [
    "### Validation data split"
   ],
   "metadata": {
    "collapsed": false,
    "pycharm": {
     "name": "#%%% md\n"
    }
   }
  },
  {
   "cell_type": "code",
   "execution_count": null,
   "outputs": [],
   "source": [
    "X_train, X_val, Y_train, Y_val = train_test_split(X_trainW, Y_trainW,\n",
    "                                                  test_size=0.2, random_state=SEED)"
   ],
   "metadata": {
    "collapsed": false,
    "pycharm": {
     "name": "#%%%\n"
    }
   }
  },
  {
   "cell_type": "code",
   "execution_count": 15,
   "outputs": [
    {
     "data": {
      "text/plain": "      Today      Lag1      Lag2      Lag3     Lag4      Lag5\n0  0.043343  0.043086  0.042972  0.043069  0.04265  0.042789\n1  0.138013  0.043086  0.042972  0.043069  0.04265  0.042789\n2  0.708801  0.138013  0.042972  0.043069  0.04265  0.042789\n3  0.703812  0.708801  0.138013  0.043069  0.04265  0.042789\n4 -0.446515  0.703812  0.708801  0.138013  0.04265  0.042789",
      "text/html": "<div>\n<style scoped>\n    .dataframe tbody tr th:only-of-type {\n        vertical-align: middle;\n    }\n\n    .dataframe tbody tr th {\n        vertical-align: top;\n    }\n\n    .dataframe thead th {\n        text-align: right;\n    }\n</style>\n<table border=\"1\" class=\"dataframe\">\n  <thead>\n    <tr style=\"text-align: right;\">\n      <th></th>\n      <th>Today</th>\n      <th>Lag1</th>\n      <th>Lag2</th>\n      <th>Lag3</th>\n      <th>Lag4</th>\n      <th>Lag5</th>\n    </tr>\n  </thead>\n  <tbody>\n    <tr>\n      <th>0</th>\n      <td>0.043343</td>\n      <td>0.043086</td>\n      <td>0.042972</td>\n      <td>0.043069</td>\n      <td>0.04265</td>\n      <td>0.042789</td>\n    </tr>\n    <tr>\n      <th>1</th>\n      <td>0.138013</td>\n      <td>0.043086</td>\n      <td>0.042972</td>\n      <td>0.043069</td>\n      <td>0.04265</td>\n      <td>0.042789</td>\n    </tr>\n    <tr>\n      <th>2</th>\n      <td>0.708801</td>\n      <td>0.138013</td>\n      <td>0.042972</td>\n      <td>0.043069</td>\n      <td>0.04265</td>\n      <td>0.042789</td>\n    </tr>\n    <tr>\n      <th>3</th>\n      <td>0.703812</td>\n      <td>0.708801</td>\n      <td>0.138013</td>\n      <td>0.043069</td>\n      <td>0.04265</td>\n      <td>0.042789</td>\n    </tr>\n    <tr>\n      <th>4</th>\n      <td>-0.446515</td>\n      <td>0.703812</td>\n      <td>0.708801</td>\n      <td>0.138013</td>\n      <td>0.04265</td>\n      <td>0.042789</td>\n    </tr>\n  </tbody>\n</table>\n</div>"
     },
     "execution_count": 15,
     "metadata": {},
     "output_type": "execute_result"
    }
   ],
   "source": [
    "X_train.head()"
   ],
   "metadata": {
    "collapsed": false,
    "pycharm": {
     "name": "#%%\n"
    }
   }
  },
  {
   "cell_type": "markdown",
   "source": [
    "## Models\n",
    "#### Logistic Regression Tuning"
   ],
   "metadata": {
    "collapsed": false,
    "pycharm": {
     "name": "#%% md\n"
    }
   }
  },
  {
   "cell_type": "code",
   "execution_count": 54,
   "outputs": [],
   "source": [
    "penalty = ['l1', 'l2']\n",
    "C = [0.0001, 0.001, 0.01, 0.1, 1, 10, 100, 1000]\n",
    "solver = ['liblinear', 'saga']\n",
    "\n",
    "param_grid = dict(penalty=penalty,\n",
    "                  C=C,\n",
    "                  solver=solver)\n",
    "\n",
    "model = GridSearchCV(LogisticRegression(solver='liblinear'),\n",
    "                    param_grid=param_grid,\n",
    "                    scoring='accuracy',\n",
    "                    verbose=1,\n",
    "                    n_jobs=-1)\n",
    "#grid_result = grid.fit(X_train, Y_train)\n",
    "\n",
    "print('Best Score: ', grid_result.best_score_)\n",
    "print('Best Params: ', grid_result.best_params_)"
   ],
   "metadata": {
    "collapsed": false,
    "pycharm": {
     "name": "#%%\n"
    }
   }
  },
  {
   "cell_type": "markdown",
   "source": [
    "#### Decision Tree tuning"
   ],
   "metadata": {
    "collapsed": false,
    "pycharm": {
     "name": "#%% md\n"
    }
   }
  },
  {
   "cell_type": "code",
   "execution_count": null,
   "outputs": [],
   "source": [
    "config = {\n",
    "    'min_samples_leaf': [15, 19, 23, 25, 28, 30, 35, 40],\n",
    "    \"max_depth\": [5, 8, 10, 12]\n",
    "}\n",
    "model = TuneSearchCV(DecisionTreeClassifier(random_state=SEED),\n",
    "                          config,\n",
    "                          scoring='accuracy',\n",
    "                          n_jobs=-1, cv =5,\n",
    "                          search_optimization='bayesian',\n",
    "                          verbose=1,\n",
    "                          random_state=SEED)"
   ],
   "metadata": {
    "collapsed": false,
    "pycharm": {
     "name": "#%%\n"
    }
   }
  },
  {
   "cell_type": "markdown",
   "source": [
    "#### Random Forest Tuning"
   ],
   "metadata": {
    "collapsed": false,
    "pycharm": {
     "name": "#%% md\n"
    }
   }
  },
  {
   "cell_type": "code",
   "execution_count": 11,
   "outputs": [],
   "source": [
    "config = {\n",
    "    \"n_estimators\": [300, 400, 600, 650, 700, 750, 800, 1000],\n",
    "    'min_samples_leaf': [1, 2, 4],\n",
    "    'min_samples_split': [2, 5],\n",
    "    \"max_depth\": [9, 12] ,\n",
    "    #15, 18, 21, 24],\n",
    "    \"max_features\": ['auto', 'sqrt']\n",
    "}\n",
    "\n",
    "\n",
    "model = TuneSearchCV(RandomForestClassifier(n_jobs= 1, verbose = 1,\n",
    "                                                  random_state=SEED),\n",
    "                          config,\n",
    "                          scoring='accuracy',\n",
    "                          n_jobs=1, cv=5,\n",
    "                          search_optimization='bayesian',\n",
    "                          verbose=1,\n",
    "                          random_state=SEED)\n"
   ],
   "metadata": {
    "collapsed": false,
    "pycharm": {
     "name": "#%%\n"
    }
   }
  },
  {
   "cell_type": "markdown",
   "source": [
    "#### LightGBM Tuning"
   ],
   "metadata": {
    "collapsed": false,
    "pycharm": {
     "name": "#%% md\n"
    }
   }
  },
  {
   "cell_type": "code",
   "execution_count": 19,
   "outputs": [],
   "source": [
    "config = {\n",
    "    \"n_estimators\": [400, 600, 700, 800, 1000],\n",
    "    \"colsample_bytree\": [0.7, 0.8],\n",
    "    \"max_depth\": [5, 10, 15, 20, 25],\n",
    "    \"num_leaves\": [50, 100, 200],\n",
    "    \"reg_lambda\": [1.1, 1.2, 1.3],\n",
    "    \"min_split_gain\": [0.3, 0.4],\n",
    "    \"subsample\": [0.7, 0.8, 0.9],\n",
    "    \"learning_rate\": [0.05, 0.1]\n",
    "}\n",
    "model = TuneSearchCV(LGBMClassifier(n_jobs=-1, random_state=SEED),\n",
    "                          config,\n",
    "                          scoring='accuracy',\n",
    "                          n_jobs=-1, cv=5,\n",
    "                          search_optimization='bayesian',\n",
    "                          verbose=1,\n",
    "                          random_state=SEED)"
   ],
   "metadata": {
    "collapsed": false,
    "pycharm": {
     "name": "#%%\n"
    }
   }
  },
  {
   "cell_type": "markdown",
   "source": [
    "#### XGBoost Tuning"
   ],
   "metadata": {
    "collapsed": false,
    "pycharm": {
     "name": "#%% md\n"
    }
   }
  },
  {
   "cell_type": "code",
   "execution_count": 16,
   "outputs": [
    {
     "ename": "NameError",
     "evalue": "name 'TuneSearchCV' is not defined",
     "output_type": "error",
     "traceback": [
      "\u001B[0;31m---------------------------------------------------------------------------\u001B[0m",
      "\u001B[0;31mNameError\u001B[0m                                 Traceback (most recent call last)",
      "\u001B[0;32m<ipython-input-16-71d06e43862f>\u001B[0m in \u001B[0;36m<module>\u001B[0;34m\u001B[0m\n\u001B[1;32m      7\u001B[0m }\n\u001B[1;32m      8\u001B[0m \u001B[0;34m\u001B[0m\u001B[0m\n\u001B[0;32m----> 9\u001B[0;31m model = TuneSearchCV(XGBClassifier(n_jobs=-1, random_state=SEED),\n\u001B[0m\u001B[1;32m     10\u001B[0m                           \u001B[0mconfig\u001B[0m\u001B[0;34m,\u001B[0m\u001B[0;34m\u001B[0m\u001B[0;34m\u001B[0m\u001B[0m\n\u001B[1;32m     11\u001B[0m                           \u001B[0mscoring\u001B[0m\u001B[0;34m=\u001B[0m\u001B[0;34m'accuracy'\u001B[0m\u001B[0;34m,\u001B[0m\u001B[0;34m\u001B[0m\u001B[0;34m\u001B[0m\u001B[0m\n",
      "\u001B[0;31mNameError\u001B[0m: name 'TuneSearchCV' is not defined"
     ]
    }
   ],
   "source": [
    "config = {\n",
    "    \"n_estimators\": [100, 200, 300, 400, 600, 700, 800],\n",
    "    \"colsample_bytree\": [0.7, 0.8],\n",
    "    \"min_child_weight\": [1,3,5,7] ,\n",
    "    \"max_depth\": [3, 6, 9, 12],\n",
    "    \"learning_rate\": [0.05, 0.1]\n",
    "}\n",
    "\n",
    "model = TuneSearchCV(XGBClassifier(n_jobs=-1, random_state=SEED),\n",
    "                          config,\n",
    "                          scoring='accuracy',\n",
    "                          n_jobs=-1, cv=5,\n",
    "                          search_optimization='bayesian',\n",
    "                          verbose=1,\n",
    "                          random_state=SEED)"
   ],
   "metadata": {
    "collapsed": false,
    "pycharm": {
     "name": "#%%\n"
    }
   }
  },
  {
   "cell_type": "markdown",
   "source": [
    "#### SVC Tuning"
   ],
   "metadata": {
    "collapsed": false,
    "pycharm": {
     "name": "#%% md\n"
    }
   }
  },
  {
   "cell_type": "code",
   "execution_count": 32,
   "outputs": [],
   "source": [
    "config = {'C': [0.1, 1, 10, 100, 1000],\n",
    "              'gamma': [1, 0.1, 0.01, 0.001, 0.0001],\n",
    "              'kernel': ['rbf']}\n",
    "\n",
    "model = TuneSearchCV(SVC(random_state=SEED),\n",
    "                          config,\n",
    "                          scoring='accuracy',\n",
    "                          n_jobs=-1, cv = 5,\n",
    "                          search_optimization='bayesian',\n",
    "                          verbose=1,\n",
    "                          random_state=SEED)"
   ],
   "metadata": {
    "collapsed": false,
    "pycharm": {
     "name": "#%%\n"
    }
   }
  },
  {
   "cell_type": "markdown",
   "source": [
    "#### Knn Tuning"
   ],
   "metadata": {
    "collapsed": false,
    "pycharm": {
     "name": "#%% md\n"
    }
   }
  },
  {
   "cell_type": "code",
   "execution_count": 33,
   "outputs": [],
   "source": [
    "config = {'leaf_size' : list(range(1,100)),\n",
    "          'n_neighbors' : list(range(1,100))\n",
    "          'p':[1,2]\n",
    "}\n",
    "\n",
    "model = TuneSearchCV(KNeighborsClassifier(n_jobs=-1),\n",
    "                          config,\n",
    "                          scoring='accuracy',\n",
    "                          n_jobs=1, cv = 5,\n",
    "                          search_optimization='bayesian',\n",
    "                          verbose=1,\n",
    "                          random_state=SEED)\n"
   ],
   "metadata": {
    "collapsed": false,
    "pycharm": {
     "name": "#%%\n"
    }
   }
  },
  {
   "cell_type": "markdown",
   "source": [
    "## Training on the dataset"
   ],
   "metadata": {
    "collapsed": false,
    "pycharm": {
     "name": "#%% md\n"
    }
   }
  },
  {
   "cell_type": "code",
   "execution_count": 24,
   "outputs": [
    {
     "data": {
      "text/plain": "LGBMClassifier(colsample_bytree=0.718109403719446,\n               learning_rate=0.06791886573990238, max_depth=5,\n               min_split_gain=0.3039987680281693, n_estimators=600,\n               num_leaves=100, reg_lambda=1.1, subsample=0.9)"
     },
     "execution_count": 24,
     "metadata": {},
     "output_type": "execute_result"
    }
   ],
   "source": [
    "model.fit(X_train, Y_train)"
   ],
   "metadata": {
    "collapsed": false,
    "pycharm": {
     "name": "#%%\n"
    }
   }
  },
  {
   "cell_type": "markdown",
   "source": [
    "## Model Performance on Val"
   ],
   "metadata": {
    "collapsed": false,
    "pycharm": {
     "name": "#%% md\n"
    }
   }
  },
  {
   "cell_type": "code",
   "execution_count": 25,
   "outputs": [
    {
     "name": "stdout",
     "output_type": "stream",
     "text": [
      "Training score:  0.8267522211253702\n",
      "              precision    recall  f1-score   support\n",
      "\n",
      "           0       0.83      0.81      0.82       981\n",
      "           1       0.82      0.84      0.83      1045\n",
      "\n",
      "    accuracy                           0.83      2026\n",
      "   macro avg       0.83      0.83      0.83      2026\n",
      "weighted avg       0.83      0.83      0.83      2026\n",
      "\n"
     ]
    }
   ],
   "source": [
    "# model_pipe.roc_auc_score(X_train,Y_train)\n",
    "Y_train_preds = model.predict_proba(X_train)[:,1]\n",
    "Y_train_preds = np.round(Y_train_preds).astype(int)\n",
    "train_score = accuracy_score(Y_train,Y_train_preds)\n",
    "\n",
    "Y_val_preds = model.predict_proba(X_val)[:,1]\n",
    "Y_val_preds = np.round(Y_val_preds).astype(int)\n",
    "val_score = accuracy_score(Y_val,Y_val_preds)\n",
    "\n",
    "print('Training score: ', train_score)\n",
    "print('Testing score: ', test_score)\n",
    "\n",
    "print(classification_report(Y_val, model.predict(X_val)))\n"
   ],
   "metadata": {
    "collapsed": false,
    "pycharm": {
     "name": "#%%\n"
    }
   }
  },
  {
   "cell_type": "markdown",
   "source": [
    "## Train on entire dataset"
   ],
   "metadata": {
    "collapsed": false,
    "pycharm": {
     "name": "#%% md\n"
    }
   }
  },
  {
   "cell_type": "code",
   "execution_count": null,
   "outputs": [],
   "source": [
    "model.fit(X_trainW, Y_trainW)"
   ],
   "metadata": {
    "collapsed": false,
    "pycharm": {
     "name": "#%%\n"
    }
   }
  },
  {
   "cell_type": "markdown",
   "source": [
    "## Generate submission file"
   ],
   "metadata": {
    "collapsed": false,
    "pycharm": {
     "name": "#%% md\n"
    }
   }
  },
  {
   "cell_type": "code",
   "execution_count": null,
   "outputs": [],
   "source": [
    "Y_test_preds = model.predict_proba(X_test)[:,1]\n",
    "Y_test = submitformat(Y_test_preds, X_test)\n",
    "\n",
    "Y_test.to_csv('/Users/Kapil/Desktop/Y_test.csv')"
   ],
   "metadata": {
    "collapsed": false,
    "pycharm": {
     "name": "#%%\n"
    }
   }
  },
  {
   "cell_type": "markdown",
   "source": [
    "### Save Model"
   ],
   "metadata": {
    "collapsed": false,
    "pycharm": {
     "name": "#%% md\n"
    }
   }
  },
  {
   "cell_type": "code",
   "execution_count": null,
   "outputs": [],
   "source": [
    "save_path = '/Users/Kapil/PycharmProjects/stock-price/models/'\n",
    "model_name = model.__class__.__name__ + '.joblib'\n",
    "joblib.dump(model, save_path + model_name)\n",
    "\n"
   ],
   "metadata": {
    "collapsed": false,
    "pycharm": {
     "name": "#%%\n"
    }
   }
  }
 ],
 "metadata": {
  "kernelspec": {
   "display_name": "Python 3",
   "language": "python",
   "name": "python3"
  },
  "language_info": {
   "codemirror_mode": {
    "name": "ipython",
    "version": 2
   },
   "file_extension": ".py",
   "mimetype": "text/x-python",
   "name": "python",
   "nbconvert_exporter": "python",
   "pygments_lexer": "ipython2",
   "version": "2.7.6"
  }
 },
 "nbformat": 4,
 "nbformat_minor": 0
}